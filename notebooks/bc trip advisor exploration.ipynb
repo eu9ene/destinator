{
 "cells": [
  {
   "cell_type": "code",
   "execution_count": 1,
   "metadata": {},
   "outputs": [
    {
     "name": "stderr",
     "output_type": "stream",
     "text": [
      "/Users/danmer/Library/Caches/pypoetry/virtualenvs/travel-data-IdU4XPx8-py3.6/lib/python3.6/site-packages/scipy/sparse/sparsetools.py:21: DeprecationWarning: `scipy.sparse.sparsetools` is deprecated!\n",
      "scipy.sparse.sparsetools is a private module for scipy.sparse, and should not be used.\n",
      "  _deprecated()\n"
     ]
    }
   ],
   "source": [
    "import pandas as pd\n",
    "import json\n",
    "import spacy\n",
    "from spacy import displacy\n",
    "from tqdm import tqdm\n",
    "from collections import Counter\n",
    "from dask.distributed import Client, progress\n",
    "import dask.bag as db\n",
    "import math\n",
    "from dask.diagnostics import ProgressBar\n",
    "import numpy as np\n",
    "import matplotlib.pyplot as plt\n",
    "import numpy as np\n",
    "import pyLDAvis.gensim\n",
    "import spacy\n",
    "from gensim.models.ldamodel import LdaModel\n",
    "from gensim.corpora import Dictionary\n",
    "from gensim.models.tfidfmodel import TfidfModel\n",
    "from gensim.matutils import sparse2full\n",
    "import numpy as np\n",
    "import pyLDAvis.gensim\n",
    "pyLDAvis.enable_notebook()\n"
   ]
  },
  {
   "cell_type": "code",
   "execution_count": null,
   "metadata": {},
   "outputs": [],
   "source": [
    "# !python -m spacy download en_core_web_md"
   ]
  },
  {
   "cell_type": "markdown",
   "metadata": {},
   "source": [
    "# Loading"
   ]
  },
  {
   "cell_type": "code",
   "execution_count": 2,
   "metadata": {},
   "outputs": [],
   "source": [
    "def extract_category(row):\n",
    "    cat = row.category if 'category' in row else None\n",
    "    \n",
    "    if cat is None or pd.isna(cat) and 'type' in row and not pd.isna(row.type):\n",
    "        return row.type\n",
    "    elif isinstance(cat,dict) and 'key' in cat and not pd.isna(cat['key']):\n",
    "        return cat['key']\n",
    "    elif 'ranking_category' in row and not pd.isna(row.ranking_category):\n",
    "        return row.ranking_category\n",
    "    return cat"
   ]
  },
  {
   "cell_type": "code",
   "execution_count": 3,
   "metadata": {},
   "outputs": [],
   "source": [
    "data_df = pd.read_json('/Users/danmer/travel_data/source/bc_clean.json')\n",
    "van_df = pd.read_json('/Users/danmer/travel_data/source/vancouver_clean.json')\n",
    "data_df = pd.concat([data_df, van_df])"
   ]
  },
  {
   "cell_type": "code",
   "execution_count": 4,
   "metadata": {},
   "outputs": [
    {
     "name": "stdout",
     "output_type": "stream",
     "text": [
      "<class 'pandas.core.frame.DataFrame'>\n",
      "Int64Index: 26241 entries, 0 to 6211\n",
      "Data columns (total 73 columns):\n",
      " #   Column                                     Non-Null Count  Dtype  \n",
      "---  ------                                     --------------  -----  \n",
      " 0   id                                         20513 non-null  float64\n",
      " 1   type                                       20513 non-null  object \n",
      " 2   name                                       26241 non-null  object \n",
      " 3   awards                                     26241 non-null  object \n",
      " 4   rankingPosition                            4377 non-null   float64\n",
      " 5   priceLevel                                 20513 non-null  object \n",
      " 6   category                                   10105 non-null  object \n",
      " 7   rating                                     23172 non-null  float64\n",
      " 8   hotelClass                                 1323 non-null   float64\n",
      " 9   phone                                      23614 non-null  object \n",
      " 10  address                                    26241 non-null  object \n",
      " 11  email                                      10010 non-null  object \n",
      " 12  amenities                                  1323 non-null   object \n",
      " 13  prices                                     1323 non-null   object \n",
      " 14  latitude                                   25689 non-null  float64\n",
      " 15  longitude                                  25689 non-null  float64\n",
      " 16  webUrl                                     20513 non-null  object \n",
      " 17  website                                    21492 non-null  object \n",
      " 18  rankingString                              4377 non-null   object \n",
      " 19  numberOfReviews                            20513 non-null  float64\n",
      " 20  rankingDenominator                         4377 non-null   float64\n",
      " 21  reviews                                    26241 non-null  object \n",
      " 22  hotelClassAttribution                      9 non-null      object \n",
      " 23  isClosed                                   19190 non-null  float64\n",
      " 24  isLongClosed                               19190 non-null  float64\n",
      " 25  cuisine                                    19190 non-null  object \n",
      " 26  hours                                      21313 non-null  object \n",
      " 27  location_id                                5728 non-null   float64\n",
      " 28  num_reviews                                5728 non-null   float64\n",
      " 29  timezone                                   5728 non-null   object \n",
      " 30  location_string                            5728 non-null   object \n",
      " 31  photo                                      4965 non-null   object \n",
      " 32  api_detail_url                             5728 non-null   object \n",
      " 33  location_subtype                           5728 non-null   object \n",
      " 34  doubleclick_zone                           5728 non-null   object \n",
      " 35  preferred_map_engine                       5728 non-null   object \n",
      " 36  raw_ranking                                5067 non-null   float64\n",
      " 37  ranking_geo                                5067 non-null   object \n",
      " 38  ranking_geo_id                             5067 non-null   float64\n",
      " 39  ranking_position                           5067 non-null   float64\n",
      " 40  ranking_denominator                        5067 non-null   float64\n",
      " 41  ranking_category                           5067 non-null   object \n",
      " 42  ranking_subcategory                        5067 non-null   object \n",
      " 43  subcategory_ranking                        5067 non-null   object \n",
      " 44  ranking                                    5067 non-null   object \n",
      " 45  distance                                   0 non-null      float64\n",
      " 46  distance_string                            0 non-null      float64\n",
      " 47  bearing                                    0 non-null      float64\n",
      " 48  is_closed                                  5728 non-null   float64\n",
      " 49  is_long_closed                             5728 non-null   float64\n",
      " 50  description                                5728 non-null   object \n",
      " 51  web_url                                    5728 non-null   object \n",
      " 52  write_review                               5728 non-null   object \n",
      " 53  ancestors                                  5728 non-null   object \n",
      " 54  subcategory                                5728 non-null   object \n",
      " 55  parent_display_name                        5728 non-null   object \n",
      " 56  is_jfy_enabled                             5728 non-null   float64\n",
      " 57  nearest_metro_station                      5728 non-null   object \n",
      " 58  address_obj                                5728 non-null   object \n",
      " 59  is_candidate_for_contact_info_suppression  5728 non-null   float64\n",
      " 60  subtype                                    5728 non-null   object \n",
      " 61  tags                                       5728 non-null   object \n",
      " 62  shopping_type                              5728 non-null   object \n",
      " 63  open_now_text                              2123 non-null   object \n",
      " 64  booking                                    1305 non-null   object \n",
      " 65  offer_group                                1305 non-null   object \n",
      " 66  animal_welfare_tag                         422 non-null    object \n",
      " 67  fee                                        160 non-null    object \n",
      " 68  neighborhood_info                          2149 non-null   object \n",
      " 69  waypoint_info                              8 non-null      object \n",
      " 70  ta_message                                 6 non-null      object \n",
      " 71  machine_translated                         164 non-null    float64\n",
      " 72  translation_vendor                         12 non-null     object \n",
      "dtypes: float64(24), object(49)\n",
      "memory usage: 14.8+ MB\n"
     ]
    }
   ],
   "source": [
    "data_df.info()"
   ]
  },
  {
   "cell_type": "code",
   "execution_count": 5,
   "metadata": {},
   "outputs": [],
   "source": [
    "data_df.category = data_df.apply(extract_category, axis=1)"
   ]
  },
  {
   "cell_type": "code",
   "execution_count": 6,
   "metadata": {},
   "outputs": [
    {
     "data": {
      "text/plain": [
       "array(['hotel', 'HOTEL', 'RESTAURANT', 'attraction', 'restaurant'],\n",
       "      dtype=object)"
      ]
     },
     "execution_count": 6,
     "metadata": {},
     "output_type": "execute_result"
    }
   ],
   "source": [
    "data_df.category.unique()"
   ]
  },
  {
   "cell_type": "code",
   "execution_count": 7,
   "metadata": {},
   "outputs": [
    {
     "data": {
      "text/plain": [
       "RESTAURANT    16108\n",
       "attraction     5728\n",
       "restaurant     3082\n",
       "hotel          1295\n",
       "HOTEL            28\n",
       "Name: category, dtype: int64"
      ]
     },
     "execution_count": 7,
     "metadata": {},
     "output_type": "execute_result"
    }
   ],
   "source": [
    "data_df.category.value_counts()"
   ]
  },
  {
   "cell_type": "markdown",
   "metadata": {},
   "source": [
    "### attractions"
   ]
  },
  {
   "cell_type": "code",
   "execution_count": 8,
   "metadata": {},
   "outputs": [
    {
     "data": {
      "text/html": [
       "<div>\n",
       "<style scoped>\n",
       "    .dataframe tbody tr th:only-of-type {\n",
       "        vertical-align: middle;\n",
       "    }\n",
       "\n",
       "    .dataframe tbody tr th {\n",
       "        vertical-align: top;\n",
       "    }\n",
       "\n",
       "    .dataframe thead th {\n",
       "        text-align: right;\n",
       "    }\n",
       "</style>\n",
       "<table border=\"1\" class=\"dataframe\">\n",
       "  <thead>\n",
       "    <tr style=\"text-align: right;\">\n",
       "      <th></th>\n",
       "      <th>id</th>\n",
       "      <th>name</th>\n",
       "      <th>rating</th>\n",
       "      <th>reviews</th>\n",
       "      <th>website</th>\n",
       "      <th>num_reviews</th>\n",
       "    </tr>\n",
       "  </thead>\n",
       "  <tbody>\n",
       "    <tr>\n",
       "      <th>17548</th>\n",
       "      <td>NaN</td>\n",
       "      <td>Stanley Park</td>\n",
       "      <td>4.5</td>\n",
       "      <td>[{'language': 'en', 'title': 'Stanley Park  Je...</td>\n",
       "      <td>http://vancouver.ca/parks-recreation-culture/s...</td>\n",
       "      <td>2072</td>\n",
       "    </tr>\n",
       "    <tr>\n",
       "      <th>17229</th>\n",
       "      <td>NaN</td>\n",
       "      <td>Granville Island</td>\n",
       "      <td>4.5</td>\n",
       "      <td>[{'language': 'en', 'title': 'Very quiet islan...</td>\n",
       "      <td>http://granvilleisland.com/</td>\n",
       "      <td>1719</td>\n",
       "    </tr>\n",
       "    <tr>\n",
       "      <th>4173</th>\n",
       "      <td>NaN</td>\n",
       "      <td>Rocky Mountaineer</td>\n",
       "      <td>4.5</td>\n",
       "      <td>[{'language': 'en', 'title': 'Canada closing b...</td>\n",
       "      <td>http://www.rockymountaineer.com/en_US/routes_a...</td>\n",
       "      <td>1236</td>\n",
       "    </tr>\n",
       "    <tr>\n",
       "      <th>17885</th>\n",
       "      <td>NaN</td>\n",
       "      <td>The Butchart Gardens</td>\n",
       "      <td>4.5</td>\n",
       "      <td>[{'language': 'en', 'title': 'Walk in the gard...</td>\n",
       "      <td>http://www.butchartgardens.com</td>\n",
       "      <td>995</td>\n",
       "    </tr>\n",
       "    <tr>\n",
       "      <th>16860</th>\n",
       "      <td>NaN</td>\n",
       "      <td>Capilano Suspension Bridge Park</td>\n",
       "      <td>4.5</td>\n",
       "      <td>[{'language': 'en', 'title': 'Amazing ', 'text...</td>\n",
       "      <td>http://www.capbridge.com/</td>\n",
       "      <td>521</td>\n",
       "    </tr>\n",
       "  </tbody>\n",
       "</table>\n",
       "</div>"
      ],
      "text/plain": [
       "       id                             name  rating  \\\n",
       "17548 NaN                     Stanley Park     4.5   \n",
       "17229 NaN                 Granville Island     4.5   \n",
       "4173  NaN                Rocky Mountaineer     4.5   \n",
       "17885 NaN             The Butchart Gardens     4.5   \n",
       "16860 NaN  Capilano Suspension Bridge Park     4.5   \n",
       "\n",
       "                                                 reviews  \\\n",
       "17548  [{'language': 'en', 'title': 'Stanley Park  Je...   \n",
       "17229  [{'language': 'en', 'title': 'Very quiet islan...   \n",
       "4173   [{'language': 'en', 'title': 'Canada closing b...   \n",
       "17885  [{'language': 'en', 'title': 'Walk in the gard...   \n",
       "16860  [{'language': 'en', 'title': 'Amazing ', 'text...   \n",
       "\n",
       "                                                 website  num_reviews  \n",
       "17548  http://vancouver.ca/parks-recreation-culture/s...         2072  \n",
       "17229                        http://granvilleisland.com/         1719  \n",
       "4173   http://www.rockymountaineer.com/en_US/routes_a...         1236  \n",
       "17885                     http://www.butchartgardens.com          995  \n",
       "16860                          http://www.capbridge.com/          521  "
      ]
     },
     "execution_count": 8,
     "metadata": {},
     "output_type": "execute_result"
    }
   ],
   "source": [
    "attractions = data_df[(data_df.category == 'attraction') & (data_df.rating.notnull())][['id', 'name','rating','reviews', 'website']]\n",
    "attractions['num_reviews'] = attractions.apply(lambda r: len(r.reviews) if 'reviews' in r else 0, axis=1)\n",
    "attractions.sort_values('num_reviews',ascending=False).drop_duplicates('name').head(5)"
   ]
  },
  {
   "cell_type": "code",
   "execution_count": 9,
   "metadata": {},
   "outputs": [
    {
     "data": {
      "text/html": [
       "<div>\n",
       "<style scoped>\n",
       "    .dataframe tbody tr th:only-of-type {\n",
       "        vertical-align: middle;\n",
       "    }\n",
       "\n",
       "    .dataframe tbody tr th {\n",
       "        vertical-align: top;\n",
       "    }\n",
       "\n",
       "    .dataframe thead th {\n",
       "        text-align: right;\n",
       "    }\n",
       "</style>\n",
       "<table border=\"1\" class=\"dataframe\">\n",
       "  <thead>\n",
       "    <tr style=\"text-align: right;\">\n",
       "      <th></th>\n",
       "      <th>id</th>\n",
       "      <th>name</th>\n",
       "      <th>rating</th>\n",
       "      <th>reviews</th>\n",
       "      <th>website</th>\n",
       "      <th>num_reviews</th>\n",
       "    </tr>\n",
       "  </thead>\n",
       "  <tbody>\n",
       "    <tr>\n",
       "      <th>4559</th>\n",
       "      <td>NaN</td>\n",
       "      <td>Toonie Tours Vancouver</td>\n",
       "      <td>5.0</td>\n",
       "      <td>[{'language': 'en', 'title': 'Great tour! Reco...</td>\n",
       "      <td>http://www.toonietours.ca</td>\n",
       "      <td>278</td>\n",
       "    </tr>\n",
       "    <tr>\n",
       "      <th>18968</th>\n",
       "      <td>NaN</td>\n",
       "      <td>Vancouver Seawall</td>\n",
       "      <td>5.0</td>\n",
       "      <td>[{'language': 'en', 'title': 'Rented bikes and...</td>\n",
       "      <td>http://www.tourismvancouver.com/activities/hik...</td>\n",
       "      <td>259</td>\n",
       "    </tr>\n",
       "    <tr>\n",
       "      <th>4117</th>\n",
       "      <td>NaN</td>\n",
       "      <td>Tour Guys Vancouver</td>\n",
       "      <td>5.0</td>\n",
       "      <td>[{'language': 'en', 'title': 'Highly recommend...</td>\n",
       "      <td>http://www.tourguys.ca/#!vancouver/c55x</td>\n",
       "      <td>242</td>\n",
       "    </tr>\n",
       "    <tr>\n",
       "      <th>4116</th>\n",
       "      <td>NaN</td>\n",
       "      <td>Electric Harbour Tours</td>\n",
       "      <td>5.0</td>\n",
       "      <td>[{'language': 'en', 'title': 'Good fun.', 'tex...</td>\n",
       "      <td>http://electricharbourtours.com</td>\n",
       "      <td>200</td>\n",
       "    </tr>\n",
       "    <tr>\n",
       "      <th>16969</th>\n",
       "      <td>NaN</td>\n",
       "      <td>Wild Pacific Trail</td>\n",
       "      <td>5.0</td>\n",
       "      <td>[{'language': 'en', 'title': 'Trail run', 'tex...</td>\n",
       "      <td>http://www.wildpacifictrail.com/</td>\n",
       "      <td>180</td>\n",
       "    </tr>\n",
       "  </tbody>\n",
       "</table>\n",
       "</div>"
      ],
      "text/plain": [
       "       id                    name  rating  \\\n",
       "4559  NaN  Toonie Tours Vancouver     5.0   \n",
       "18968 NaN       Vancouver Seawall     5.0   \n",
       "4117  NaN     Tour Guys Vancouver     5.0   \n",
       "4116  NaN  Electric Harbour Tours     5.0   \n",
       "16969 NaN      Wild Pacific Trail     5.0   \n",
       "\n",
       "                                                 reviews  \\\n",
       "4559   [{'language': 'en', 'title': 'Great tour! Reco...   \n",
       "18968  [{'language': 'en', 'title': 'Rented bikes and...   \n",
       "4117   [{'language': 'en', 'title': 'Highly recommend...   \n",
       "4116   [{'language': 'en', 'title': 'Good fun.', 'tex...   \n",
       "16969  [{'language': 'en', 'title': 'Trail run', 'tex...   \n",
       "\n",
       "                                                 website  num_reviews  \n",
       "4559                           http://www.toonietours.ca          278  \n",
       "18968  http://www.tourismvancouver.com/activities/hik...          259  \n",
       "4117             http://www.tourguys.ca/#!vancouver/c55x          242  \n",
       "4116                     http://electricharbourtours.com          200  \n",
       "16969                   http://www.wildpacifictrail.com/          180  "
      ]
     },
     "execution_count": 9,
     "metadata": {},
     "output_type": "execute_result"
    }
   ],
   "source": [
    "attractions[attractions.rating == 5].sort_values('num_reviews',ascending=False).drop_duplicates('name').head(5)"
   ]
  },
  {
   "cell_type": "markdown",
   "metadata": {},
   "source": [
    "### extra"
   ]
  },
  {
   "cell_type": "code",
   "execution_count": 10,
   "metadata": {},
   "outputs": [
    {
     "data": {
      "text/html": [
       "<div>\n",
       "<style scoped>\n",
       "    .dataframe tbody tr th:only-of-type {\n",
       "        vertical-align: middle;\n",
       "    }\n",
       "\n",
       "    .dataframe tbody tr th {\n",
       "        vertical-align: top;\n",
       "    }\n",
       "\n",
       "    .dataframe thead th {\n",
       "        text-align: right;\n",
       "    }\n",
       "</style>\n",
       "<table border=\"1\" class=\"dataframe\">\n",
       "  <thead>\n",
       "    <tr style=\"text-align: right;\">\n",
       "      <th></th>\n",
       "      <th>name</th>\n",
       "      <th>rating</th>\n",
       "      <th>reviews</th>\n",
       "      <th>num_reviews</th>\n",
       "    </tr>\n",
       "  </thead>\n",
       "  <tbody>\n",
       "    <tr>\n",
       "      <th>1610</th>\n",
       "      <td>Glowbal</td>\n",
       "      <td>4.5</td>\n",
       "      <td>[{'text': 'We went to Glowbal to celebrate my ...</td>\n",
       "      <td>855</td>\n",
       "    </tr>\n",
       "    <tr>\n",
       "      <th>1872</th>\n",
       "      <td>Black + Blue</td>\n",
       "      <td>4.5</td>\n",
       "      <td>[{'text': 'Had a good time and meal there. Had...</td>\n",
       "      <td>575</td>\n",
       "    </tr>\n",
       "    <tr>\n",
       "      <th>1659</th>\n",
       "      <td>IL Terrazzo</td>\n",
       "      <td>4.5</td>\n",
       "      <td>[{'text': 'Great choice in Victoria!\n",
       "\n",
       "1.  Food...</td>\n",
       "      <td>482</td>\n",
       "    </tr>\n",
       "    <tr>\n",
       "      <th>1371</th>\n",
       "      <td>Italian Kitchen</td>\n",
       "      <td>4.5</td>\n",
       "      <td>[{'text': 'The restaurant is bustling and hect...</td>\n",
       "      <td>463</td>\n",
       "    </tr>\n",
       "    <tr>\n",
       "      <th>1528</th>\n",
       "      <td>Cardero's Restaurant &amp; Live Bait Marine Pub</td>\n",
       "      <td>4.5</td>\n",
       "      <td>[{'text': 'Went for a casual lunch and as usua...</td>\n",
       "      <td>409</td>\n",
       "    </tr>\n",
       "  </tbody>\n",
       "</table>\n",
       "</div>"
      ],
      "text/plain": [
       "                                             name  rating  \\\n",
       "1610                                      Glowbal     4.5   \n",
       "1872                                 Black + Blue     4.5   \n",
       "1659                                  IL Terrazzo     4.5   \n",
       "1371                              Italian Kitchen     4.5   \n",
       "1528  Cardero's Restaurant & Live Bait Marine Pub     4.5   \n",
       "\n",
       "                                                reviews  num_reviews  \n",
       "1610  [{'text': 'We went to Glowbal to celebrate my ...          855  \n",
       "1872  [{'text': 'Had a good time and meal there. Had...          575  \n",
       "1659  [{'text': 'Great choice in Victoria!\n",
       "\n",
       "1.  Food...          482  \n",
       "1371  [{'text': 'The restaurant is bustling and hect...          463  \n",
       "1528  [{'text': 'Went for a casual lunch and as usua...          409  "
      ]
     },
     "execution_count": 10,
     "metadata": {},
     "output_type": "execute_result"
    }
   ],
   "source": [
    "restaurants = data_df[(data_df.category == 'RESTAURANT') & (data_df.rating.notnull())][['name','rating','reviews']]\n",
    "restaurants['num_reviews'] = restaurants.apply(lambda r: len(r.reviews) if 'reviews' in r else 0, axis=1)\n",
    "restaurants.sort_values('num_reviews',ascending=False).drop_duplicates('name').head(5)"
   ]
  },
  {
   "cell_type": "code",
   "execution_count": 11,
   "metadata": {},
   "outputs": [
    {
     "data": {
      "text/plain": [
       "2602"
      ]
     },
     "execution_count": 11,
     "metadata": {},
     "output_type": "execute_result"
    }
   ],
   "source": [
    "descriptions = list(data_df[(data_df.category == 'attraction') & (data_df.description.notnull()) \\\n",
    "                            & (data_df.description!='')].description)\n",
    "len(descriptions)"
   ]
  },
  {
   "cell_type": "markdown",
   "metadata": {},
   "source": [
    "## Glove + TF/IDF"
   ]
  },
  {
   "cell_type": "markdown",
   "metadata": {},
   "source": [
    "### reviews aggregation"
   ]
  },
  {
   "cell_type": "code",
   "execution_count": null,
   "metadata": {},
   "outputs": [],
   "source": [
    "att_agg_reviews = {}\n",
    "skipped = 0\n",
    "att_df = data_df[(data_df.category == 'attraction')].drop_duplicates('name')[['name', 'reviews']]\n",
    "for idx, (id, row) in enumerate(att_df.iterrows()):\n",
    "    name, reviews = row\n",
    "    res_reviews = []\n",
    "\n",
    "    for rev in reviews:\n",
    "        try:\n",
    "            if rev['language'] == 'en':\n",
    "                res_reviews.append(rev['text'])\n",
    "        except Exception as ex:\n",
    "            skipped += 1\n",
    "            pass\n",
    "    att_agg_reviews[name] = '\\n'.join(res_reviews)\n",
    "print(f'skipped: {skipped}')\n",
    "len(att_agg_reviews)"
   ]
  },
  {
   "cell_type": "code",
   "execution_count": 13,
   "metadata": {},
   "outputs": [],
   "source": [
    "# with open('/Users/danmer/travel_data/tags/docs.json', 'w+') as f:\n",
    "#     json.dump(att_agg_reviews, f)\n",
    "    \n",
    "with open('/Users/danmer/travel_data/tags/docs.json', 'r') as f:\n",
    "    att_agg_reviews = json.load(f)"
   ]
  },
  {
   "cell_type": "code",
   "execution_count": 14,
   "metadata": {},
   "outputs": [],
   "source": [
    "names = list(att_agg_reviews.keys())"
   ]
  },
  {
   "cell_type": "code",
   "execution_count": 15,
   "metadata": {},
   "outputs": [],
   "source": [
    "texts = list(att_agg_reviews.values())"
   ]
  },
  {
   "cell_type": "markdown",
   "metadata": {},
   "source": [
    "### nlp"
   ]
  },
  {
   "cell_type": "code",
   "execution_count": 26,
   "metadata": {},
   "outputs": [],
   "source": [
    "nlp_model  = spacy.load('en_core_web_md')"
   ]
  },
  {
   "cell_type": "code",
   "execution_count": 27,
   "metadata": {},
   "outputs": [],
   "source": [
    "def nlp_doc(text, nlp):\n",
    "    def keep_token(t):\n",
    "        return (t.is_alpha and \n",
    "                not (t.is_space or t.is_punct or \n",
    "                     t.is_stop or t.like_num))\n",
    "\n",
    "    def lemmatize_doc(doc):\n",
    "        return [ t.lemma_ for t in doc if keep_token(t)]\n",
    "    \n",
    "    def ent_doc(doc):\n",
    "        return [(e.text, e.label_) for e in doc.ents]\n",
    "    \n",
    "    nlp_doc = nlp(text.lower())\n",
    "    \n",
    "    return {'tokens': lemmatize_doc(nlp_doc), \n",
    "            'entities': ent_doc(nlp_doc),\n",
    "           'emb': nlp_doc.vector}\n",
    "    "
   ]
  },
  {
   "cell_type": "code",
   "execution_count": null,
   "metadata": {},
   "outputs": [],
   "source": [
    "docs = list(att_agg_reviews.values())\n",
    "len(docs)"
   ]
  },
  {
   "cell_type": "code",
   "execution_count": null,
   "metadata": {},
   "outputs": [],
   "source": [
    "client = Client(n_workers=4, threads_per_worker=1)\n",
    "# http://localhost:8787/status http://localhost:8787/status"
   ]
  },
  {
   "cell_type": "code",
   "execution_count": null,
   "metadata": {},
   "outputs": [],
   "source": [
    "def nlp_docs(texts):\n",
    "    nlp = spacy.load(\"en_core_web_md\")\n",
    "    return [nlp_doc(text, nlp) for text in texts]\n",
    "\n",
    "nlp_docs = db.from_sequence(docs).repartition(math.ceil(len(docs)/100)).map_partitions(nlp_docs).compute()"
   ]
  },
  {
   "cell_type": "code",
   "execution_count": null,
   "metadata": {},
   "outputs": [],
   "source": [
    "for nlp_doc in nlp_docs:\n",
    "    nlp_doc['emb'] = nlp_doc['emb'].tolist()"
   ]
  },
  {
   "cell_type": "code",
   "execution_count": 16,
   "metadata": {},
   "outputs": [],
   "source": [
    "# with open('/Users/danmer/travel_data/tags/nlp_docs.json', 'w+') as f:\n",
    "#     json.dump({name: d for d, name in zip(nlp_docs, att_agg_reviews.keys())}, f)\n",
    "    \n",
    "with open('/Users/danmer/travel_data/tags/nlp_docs.json', 'r') as f:\n",
    "    nlp_docs = json.load(f).values()\n",
    "    "
   ]
  },
  {
   "cell_type": "markdown",
   "metadata": {},
   "source": [
    "### tf-idf"
   ]
  },
  {
   "cell_type": "code",
   "execution_count": 17,
   "metadata": {},
   "outputs": [],
   "source": [
    "def get_corpus(docs):\n",
    "    docs_dict = Dictionary(docs)\n",
    "    docs_dict.filter_extremes(no_below=20, no_above=0.2)\n",
    "    docs_dict.compactify()\n",
    "\n",
    "    docs_corpus = [docs_dict.doc2bow(doc) for doc in docs]\n",
    "    \n",
    "    return docs_corpus, docs_dict\n",
    "\n",
    "def build_tfidf(docs_corpus, docs_dict):\n",
    "    model_tfidf = TfidfModel(docs_corpus, id2word=docs_dict)\n",
    "    return model_tfidf\n",
    "\n",
    "\n",
    "def save_tfidf(model_tfidf, path):\n",
    "    model_tfidf.save(path)\n",
    "\n",
    "\n",
    "def load_tfidf(path):\n",
    "    return TfidfModel.load(path)\n",
    "\n",
    "\n",
    "def corpus_from_nlp_docs(nlp_docs):\n",
    "    return get_corpus([d['tokens'] for d in nlp_docs])\n",
    "\n",
    "\n",
    "def get_sorted_tfidf_with_labels(docs_dict, doc_tfidf):\n",
    "    return sorted([{'tag': docs_dict[id], 'weight':  w} \n",
    "                   for id, w in doc_tfidf], key=lambda x: x['weight'], reverse=True)"
   ]
  },
  {
   "cell_type": "code",
   "execution_count": 18,
   "metadata": {},
   "outputs": [],
   "source": [
    "docs_corpus, docs_dict = corpus_from_nlp_docs(nlp_docs)"
   ]
  },
  {
   "cell_type": "code",
   "execution_count": 19,
   "metadata": {},
   "outputs": [
    {
     "data": {
      "text/plain": [
       "2929"
      ]
     },
     "execution_count": 19,
     "metadata": {},
     "output_type": "execute_result"
    }
   ],
   "source": [
    "len(docs_dict)"
   ]
  },
  {
   "cell_type": "code",
   "execution_count": 20,
   "metadata": {},
   "outputs": [
    {
     "data": {
      "text/plain": [
       "1999"
      ]
     },
     "execution_count": 20,
     "metadata": {},
     "output_type": "execute_result"
    }
   ],
   "source": [
    "len(docs_corpus)"
   ]
  },
  {
   "cell_type": "code",
   "execution_count": 21,
   "metadata": {},
   "outputs": [],
   "source": [
    "tfidf = build_tfidf(docs_corpus, docs_dict)"
   ]
  },
  {
   "cell_type": "code",
   "execution_count": 182,
   "metadata": {},
   "outputs": [],
   "source": [
    "save_tfidf(tfidf, '/Users/danmer/travel_data/tags/tfidf.gensim')"
   ]
  },
  {
   "cell_type": "code",
   "execution_count": 22,
   "metadata": {},
   "outputs": [
    {
     "data": {
      "text/plain": [
       "1999"
      ]
     },
     "execution_count": 22,
     "metadata": {},
     "output_type": "execute_result"
    }
   ],
   "source": [
    "transformed_tfidf = tfidf[docs_corpus]\n",
    "tags_dict = {name: get_sorted_tfidf_with_labels(docs_dict, doc_tfidf) \n",
    "              for name, doc_tfidf in zip(names, transformed_tfidf)}\n",
    "len(tags_dict)"
   ]
  },
  {
   "cell_type": "code",
   "execution_count": 23,
   "metadata": {},
   "outputs": [
    {
     "data": {
      "text/plain": [
       "[{'tag': 'beach', 'weight': 0.7770620885352576},\n",
       " {'tag': 'shore', 'weight': 0.18827467972091194},\n",
       " {'tag': 'sunset', 'weight': 0.16856450115555727},\n",
       " {'tag': 'north', 'weight': 0.13881659659598547},\n",
       " {'tag': 'dark', 'weight': 0.1348516009244458},\n",
       " {'tag': 'bank', 'weight': 0.1220805388643879},\n",
       " {'tag': 'ocean', 'weight': 0.11948429338482722},\n",
       " {'tag': 'sandy', 'weight': 0.11785924677357029},\n",
       " {'tag': 'bay', 'weight': 0.11282639167940087},\n",
       " {'tag': 'swimming', 'weight': 0.09992094973061863}]"
      ]
     },
     "execution_count": 23,
     "metadata": {},
     "output_type": "execute_result"
    }
   ],
   "source": [
    "tags_dict['Jericho Beach'][:10]"
   ]
  },
  {
   "cell_type": "markdown",
   "metadata": {},
   "source": [
    "### hybrid embeddings"
   ]
  },
  {
   "cell_type": "code",
   "execution_count": 29,
   "metadata": {},
   "outputs": [],
   "source": [
    "def get_embs(model_tfidf, nlp, nlp_docs):\n",
    "    # http://dsgeek.com/2018/02/19/tfidf_vectors.html\n",
    "    docs_corpus, docs_dict = corpus_from_nlp_docs(nlp_docs)\n",
    "    docs_tfidf  = model_tfidf[docs_corpus]\n",
    "    docs_vecs   = np.vstack([sparse2full(c, len(docs_dict)) for c in docs_tfidf])\n",
    "\n",
    "#     tfidf_emb_vecs = np.vstack([np.array(nlp_docs[i]['emb']) for i in range(len(nlp_docs))])\n",
    "    tfidf_emb_vecs = np.vstack([nlp(docs_dict[i]).vector for i in range(len(docs_dict))])\n",
    "    docs_emb = np.dot(docs_vecs, tfidf_emb_vecs) \n",
    "    \n",
    "    return docs_emb"
   ]
  },
  {
   "cell_type": "code",
   "execution_count": 30,
   "metadata": {},
   "outputs": [],
   "source": [
    "agg_reviews_embs = get_embs(tfidf, nlp_model, nlp_docs)"
   ]
  },
  {
   "cell_type": "code",
   "execution_count": 31,
   "metadata": {},
   "outputs": [
    {
     "data": {
      "text/plain": [
       "300"
      ]
     },
     "execution_count": 31,
     "metadata": {},
     "output_type": "execute_result"
    }
   ],
   "source": [
    "emb_dict = {k:v for k,v in zip(names, agg_reviews_embs.tolist())}\n",
    "len((emb_dict['Jericho Beach']))"
   ]
  },
  {
   "cell_type": "code",
   "execution_count": null,
   "metadata": {},
   "outputs": [],
   "source": [
    "np.savetxt('attractions-agg-reviews-embs.txt', agg_reviews_embs, delimiter='\\t')"
   ]
  },
  {
   "cell_type": "code",
   "execution_count": null,
   "metadata": {},
   "outputs": [],
   "source": [
    "with open(\"attractions-agg.txt\", \"w\") as outf:\n",
    "    outf.write('\\n'.join([k.replace('\\n',' ') for k in att_agg_reviews.keys()]))"
   ]
  },
  {
   "cell_type": "markdown",
   "metadata": {},
   "source": [
    "# Summarization"
   ]
  },
  {
   "cell_type": "code",
   "execution_count": 144,
   "metadata": {},
   "outputs": [
    {
     "data": {
      "text/plain": [
       "'Lovely walk with great views to sea and lots of waterfowl on the water.\\nWe went to Neck Point Park to just put our feet in the water and we end up taking many pictures, stopping to appreciate the views, and walking one of the many trails offered.\\nWhat a great place to walk the trails and see the beauty of the ocean.'"
      ]
     },
     "execution_count": 144,
     "metadata": {},
     "output_type": "execute_result"
    }
   ],
   "source": [
    "import  gensim.summarization\n",
    "\n",
    "def summarize(text):\n",
    "    return gensim.summarization.summarize(text,  word_count=50)\n",
    "\n",
    "summarize(docs[7])"
   ]
  },
  {
   "cell_type": "code",
   "execution_count": null,
   "metadata": {},
   "outputs": [],
   "source": [
    "partitions = math.ceil(len(texts)/100)\n",
    "summaries = db.from_sequence(texts).repartition(partitions).map_partitions(summarize).compute()\n",
    "\n",
    "summaries_didct = {name: summary for name, reviews in zip(names, summaries)}"
   ]
  },
  {
   "cell_type": "markdown",
   "metadata": {},
   "source": [
    "# Elastic export "
   ]
  },
  {
   "cell_type": "code",
   "execution_count": 32,
   "metadata": {},
   "outputs": [],
   "source": [
    "export_df = data_df[(data_df.category == 'attraction')].drop(columns=['reviews']).drop_duplicates('name')"
   ]
  },
  {
   "cell_type": "code",
   "execution_count": 33,
   "metadata": {},
   "outputs": [],
   "source": [
    "# todo: filter tours and advernurej"
   ]
  },
  {
   "cell_type": "code",
   "execution_count": 34,
   "metadata": {},
   "outputs": [],
   "source": [
    "default = np.ones((300,), dtype='float32').tolist()\n",
    "export_df['embedding'] = export_df.apply(lambda x: emb_dict[x['name']] if x['name'] in emb_dict and all(e != 0 for e in emb_dict[x['name']]) else default, axis=1)"
   ]
  },
  {
   "cell_type": "code",
   "execution_count": 35,
   "metadata": {},
   "outputs": [],
   "source": [
    "assert export_df[export_df.name == 'Jericho Beach'].embedding.values[0] == emb_dict['Jericho Beach']"
   ]
  },
  {
   "cell_type": "code",
   "execution_count": 36,
   "metadata": {},
   "outputs": [],
   "source": [
    "def get_location(row):\n",
    "    if \"longitude\" not in row or 'latitude' not in row or pd.isna(row.latitude) or pd.isna(row.longitude):\n",
    "        return None\n",
    "    return f'{row.latitude},{row.longitude}'\n",
    "export_df['location'] = export_df.apply(get_location, axis=1)"
   ]
  },
  {
   "cell_type": "code",
   "execution_count": 37,
   "metadata": {},
   "outputs": [],
   "source": [
    "assert export_df[export_df.name == 'Jericho Beach'].location.values[0] == '49.273098,-123.20285'"
   ]
  },
  {
   "cell_type": "code",
   "execution_count": 38,
   "metadata": {},
   "outputs": [],
   "source": [
    "export_df['tags'] = export_df.apply(lambda x: tags_dict[x['name']] if x['name'] in tags_dict and tags_dict[x['name']]  else {}, axis=1)"
   ]
  },
  {
   "cell_type": "code",
   "execution_count": 39,
   "metadata": {},
   "outputs": [
    {
     "name": "stdout",
     "output_type": "stream",
     "text": [
      "<class 'pandas.core.frame.DataFrame'>\n",
      "Int64Index: 1999 entries, 16752 to 6208\n",
      "Data columns (total 74 columns):\n",
      " #   Column                                     Non-Null Count  Dtype  \n",
      "---  ------                                     --------------  -----  \n",
      " 0   id                                         0 non-null      float64\n",
      " 1   type                                       0 non-null      object \n",
      " 2   name                                       1999 non-null   object \n",
      " 3   awards                                     1999 non-null   object \n",
      " 4   rankingPosition                            0 non-null      float64\n",
      " 5   priceLevel                                 0 non-null      object \n",
      " 6   category                                   1999 non-null   object \n",
      " 7   rating                                     1670 non-null   float64\n",
      " 8   hotelClass                                 0 non-null      float64\n",
      " 9   phone                                      1570 non-null   object \n",
      " 10  address                                    1999 non-null   object \n",
      " 11  email                                      1021 non-null   object \n",
      " 12  amenities                                  0 non-null      object \n",
      " 13  prices                                     0 non-null      object \n",
      " 14  latitude                                   1860 non-null   float64\n",
      " 15  longitude                                  1860 non-null   float64\n",
      " 16  webUrl                                     0 non-null      object \n",
      " 17  website                                    1752 non-null   object \n",
      " 18  rankingString                              0 non-null      object \n",
      " 19  numberOfReviews                            0 non-null      float64\n",
      " 20  rankingDenominator                         0 non-null      float64\n",
      " 21  hotelClassAttribution                      0 non-null      object \n",
      " 22  isClosed                                   0 non-null      float64\n",
      " 23  isLongClosed                               0 non-null      float64\n",
      " 24  cuisine                                    0 non-null      object \n",
      " 25  hours                                      791 non-null    object \n",
      " 26  location_id                                1999 non-null   float64\n",
      " 27  num_reviews                                1999 non-null   float64\n",
      " 28  timezone                                   1999 non-null   object \n",
      " 29  location_string                            1999 non-null   object \n",
      " 30  photo                                      1642 non-null   object \n",
      " 31  api_detail_url                             1999 non-null   object \n",
      " 32  location_subtype                           1999 non-null   object \n",
      " 33  doubleclick_zone                           1999 non-null   object \n",
      " 34  preferred_map_engine                       1999 non-null   object \n",
      " 35  raw_ranking                                1677 non-null   float64\n",
      " 36  ranking_geo                                1677 non-null   object \n",
      " 37  ranking_geo_id                             1677 non-null   float64\n",
      " 38  ranking_position                           1677 non-null   float64\n",
      " 39  ranking_denominator                        1677 non-null   float64\n",
      " 40  ranking_category                           1677 non-null   object \n",
      " 41  ranking_subcategory                        1677 non-null   object \n",
      " 42  subcategory_ranking                        1677 non-null   object \n",
      " 43  ranking                                    1677 non-null   object \n",
      " 44  distance                                   0 non-null      float64\n",
      " 45  distance_string                            0 non-null      float64\n",
      " 46  bearing                                    0 non-null      float64\n",
      " 47  is_closed                                  1999 non-null   float64\n",
      " 48  is_long_closed                             1999 non-null   float64\n",
      " 49  description                                1999 non-null   object \n",
      " 50  web_url                                    1999 non-null   object \n",
      " 51  write_review                               1999 non-null   object \n",
      " 52  ancestors                                  1999 non-null   object \n",
      " 53  subcategory                                1999 non-null   object \n",
      " 54  parent_display_name                        1999 non-null   object \n",
      " 55  is_jfy_enabled                             1999 non-null   float64\n",
      " 56  nearest_metro_station                      1999 non-null   object \n",
      " 57  address_obj                                1999 non-null   object \n",
      " 58  is_candidate_for_contact_info_suppression  1999 non-null   float64\n",
      " 59  subtype                                    1999 non-null   object \n",
      " 60  tags                                       1999 non-null   object \n",
      " 61  shopping_type                              1999 non-null   object \n",
      " 62  open_now_text                              791 non-null    object \n",
      " 63  booking                                    400 non-null    object \n",
      " 64  offer_group                                400 non-null    object \n",
      " 65  animal_welfare_tag                         123 non-null    object \n",
      " 66  fee                                        41 non-null     object \n",
      " 67  neighborhood_info                          1026 non-null   object \n",
      " 68  waypoint_info                              3 non-null      object \n",
      " 69  ta_message                                 1 non-null      object \n",
      " 70  machine_translated                         81 non-null     float64\n",
      " 71  translation_vendor                         6 non-null      object \n",
      " 72  embedding                                  1999 non-null   object \n",
      " 73  location                                   1860 non-null   object \n",
      "dtypes: float64(24), object(50)\n",
      "memory usage: 1.1+ MB\n"
     ]
    }
   ],
   "source": [
    "export_df.info()"
   ]
  },
  {
   "cell_type": "code",
   "execution_count": 40,
   "metadata": {},
   "outputs": [],
   "source": [
    "export_df.to_json('/Users/danmer/travel_data/tags/elastic-bc-van-emb.json', orient='records', lines=True)"
   ]
  },
  {
   "cell_type": "code",
   "execution_count": 41,
   "metadata": {},
   "outputs": [],
   "source": [
    "mapping = {\n",
    "  \"mappings\": {\n",
    "    \"dynamic_templates\": [\n",
    "      {\n",
    "        \"embs\": {\n",
    "          \"match\":   \"embedding\",\n",
    "          \"mapping\": {\n",
    "            \"type\": \"dense_vector\",\n",
    "            \"dims\": 300\n",
    "          }\n",
    "        }\n",
    "      },\n",
    "      {\n",
    "        \"geo\": {\n",
    "          \"match\":   \"location\",\n",
    "          \"mapping\": {\n",
    "            \"type\": \"geo_point\"\n",
    "          }\n",
    "        }\n",
    "      },\n",
    "    {\n",
    "        \"tags\": {\n",
    "          \"match\": \"tags\",\n",
    "          \"mapping\": {\n",
    "            \"type\": \"nested\",\n",
    "                \"properties\": {\n",
    "                    \"tag\": {\n",
    "                        \"type\": \"text\"\n",
    "                    },\n",
    "                    \"weight\": {\n",
    "                        \"type\": \"float\"\n",
    "                    }\n",
    "                }\n",
    "          }\n",
    "        }\n",
    "      }\n",
    "    ]\n",
    "  }\n",
    "}"
   ]
  },
  {
   "cell_type": "code",
   "execution_count": 58,
   "metadata": {},
   "outputs": [],
   "source": [
    "from elasticsearch import Elasticsearch\n",
    "from elasticsearch.client import IndicesClient\n",
    "\n",
    "es = Elasticsearch(hosts='192.168.1.6:9200', timeout=600)"
   ]
  },
  {
   "cell_type": "code",
   "execution_count": 59,
   "metadata": {},
   "outputs": [],
   "source": [
    "index='ta-embs-tags'"
   ]
  },
  {
   "cell_type": "code",
   "execution_count": 64,
   "metadata": {},
   "outputs": [
    {
     "data": {
      "text/plain": [
       "{'acknowledged': True, 'shards_acknowledged': True, 'index': 'ta-embs-tags'}"
      ]
     },
     "execution_count": 64,
     "metadata": {},
     "output_type": "execute_result"
    }
   ],
   "source": [
    "es.indices.create(index, body=mapping)"
   ]
  },
  {
   "cell_type": "code",
   "execution_count": 47,
   "metadata": {},
   "outputs": [
    {
     "data": {
      "text/plain": [
       "1999"
      ]
     },
     "execution_count": 47,
     "metadata": {},
     "output_type": "execute_result"
    }
   ],
   "source": [
    "records = export_df.to_dict('records')\n",
    "len(records)"
   ]
  },
  {
   "cell_type": "code",
   "execution_count": null,
   "metadata": {},
   "outputs": [],
   "source": [
    "import simplejson\n",
    "lines = []\n",
    "import toolz \n",
    "for part in tqdm(list(toolz.partition_all(len(records)//10, records))):\n",
    "    es = Elasticsearch(hosts='192.168.1.6:9200',retry_on_timeout=True, timeout=600)\n",
    "    for idx, doc in enumerate(part):\n",
    "        lines.append(json.dumps({ \"index\" : { \"_index\" : index, \"_id\" : f\"{idx}\"}}))\n",
    "        lines.append(simplejson.dumps(doc, ignore_nan=True))\n",
    "    body = '\\n'.join(lines)\n",
    "    res = es.bulk(index=index, body=body, timeout='10m')\n",
    "    print(f'took: {res[\"took\"]}, errors: {res[\"errors\"]}')"
   ]
  },
  {
   "cell_type": "code",
   "execution_count": 65,
   "metadata": {},
   "outputs": [
    {
     "name": "stderr",
     "output_type": "stream",
     "text": [
      "100%|██████████| 1999/1999 [03:11<00:00, 10.41it/s]\n"
     ]
    }
   ],
   "source": [
    "\n",
    "#                   sniff_on_start=True,\n",
    "#           sniff_on_connection_fail=True,\n",
    "#           sniffer_timeout=60)\n",
    "for idx, doc in tqdm(list(enumerate(records))):\n",
    "    es = Elasticsearch(hosts='192.168.1.6:9200', \n",
    "                   retry_on_timeout=True, timeout=10)\n",
    "    es.index(index=index, id=str(idx),body= simplejson.dumps(doc, ignore_nan=True))"
   ]
  },
  {
   "cell_type": "code",
   "execution_count": 260,
   "metadata": {},
   "outputs": [
    {
     "data": {
      "text/plain": [
       "[]"
      ]
     },
     "execution_count": 260,
     "metadata": {},
     "output_type": "execute_result"
    }
   ],
   "source": [
    "[item for item in res['items'] if item['index']['status'] != 201 and item['index']['status'] != 200]"
   ]
  },
  {
   "cell_type": "markdown",
   "metadata": {},
   "source": [
    "# NER test"
   ]
  },
  {
   "cell_type": "code",
   "execution_count": null,
   "metadata": {},
   "outputs": [],
   "source": [
    "client = Client(n_workers=4, threads_per_worker=1)\n",
    "def ner(texts):\n",
    "    nlp = spacy.load(\"en_core_web_sm\")\n",
    "    docs = [nlp(desc) for desc in texts]\n",
    "    return [[(e.text, e.label_) for e in doc.ents] for doc in docs ]\n",
    "partitions = math.ceil(len(reviews)/5000)\n",
    "with ProgressBar():\n",
    "    rev_db = db.from_sequence(reviews).repartition(partitions).map_partitions(ner).flatten().compute()\n"
   ]
  },
  {
   "cell_type": "code",
   "execution_count": null,
   "metadata": {},
   "outputs": [],
   "source": [
    "with open('entities.json', 'w+') as f:\n",
    "    json.dump(rev_db, f)"
   ]
  },
  {
   "cell_type": "code",
   "execution_count": null,
   "metadata": {},
   "outputs": [],
   "source": [
    "Counter([en for en, label in rev_db if label == 'GPE']).most_common(50)"
   ]
  },
  {
   "cell_type": "code",
   "execution_count": null,
   "metadata": {},
   "outputs": [],
   "source": [
    "desc_docs = [nlp(desc) for desc in descriptions]"
   ]
  },
  {
   "cell_type": "code",
   "execution_count": null,
   "metadata": {},
   "outputs": [],
   "source": [
    "for doc in rev_docs[:5]:\n",
    "    displacy.render(doc, style=\"ent\")"
   ]
  },
  {
   "cell_type": "code",
   "execution_count": null,
   "metadata": {},
   "outputs": [],
   "source": [
    "for doc in desc_docs[:5]:\n",
    "    displacy.render(doc, style=\"ent\")"
   ]
  },
  {
   "cell_type": "code",
   "execution_count": null,
   "metadata": {},
   "outputs": [],
   "source": [
    "all_ents = [e.text for doc in rev_docs for e in doc.ents if e.label_ == \"LOC\"]\n",
    "Counter(all_ents).most_common(100)"
   ]
  },
  {
   "cell_type": "code",
   "execution_count": null,
   "metadata": {},
   "outputs": [],
   "source": [
    "data_df[(data_df.category == 'attraction')].sort_values('num_reviews',ascending=False).name.apply(lambda x: x.strip().lower()).drop_duplicates().to_csv('attractions', index=False, header=False)"
   ]
  },
  {
   "cell_type": "markdown",
   "metadata": {},
   "source": [
    "# Test embeddings"
   ]
  },
  {
   "cell_type": "markdown",
   "metadata": {},
   "source": [
    "### lazer"
   ]
  },
  {
   "cell_type": "code",
   "execution_count": null,
   "metadata": {},
   "outputs": [],
   "source": [
    "laser = Laser()\n",
    "embs = laser.embed_sentences(reviews[:1000], lang='en')\n",
    "# https://projector.tensorflow.org/"
   ]
  },
  {
   "cell_type": "code",
   "execution_count": null,
   "metadata": {},
   "outputs": [],
   "source": [
    "np.save('review-embs', embs)"
   ]
  },
  {
   "cell_type": "code",
   "execution_count": null,
   "metadata": {},
   "outputs": [],
   "source": [
    "np.savetxt('review-embs.txt', embs, delimiter='\\t')"
   ]
  },
  {
   "cell_type": "code",
   "execution_count": null,
   "metadata": {},
   "outputs": [],
   "source": [
    "with open(\"reviews-10000.txt\", \"w\") as outf:\n",
    "    outf.write('\\n'.join([r.replace('\\n',' ')[:200] for r in reviews[:10000]]))"
   ]
  },
  {
   "cell_type": "markdown",
   "metadata": {},
   "source": [
    "### fasttext"
   ]
  },
  {
   "cell_type": "code",
   "execution_count": null,
   "metadata": {},
   "outputs": [],
   "source": [
    "import fasttext\n",
    "model = fasttext.load_model('/Users/danmer/deep-pdf-data/cc.en.300.bin')"
   ]
  },
  {
   "cell_type": "code",
   "execution_count": null,
   "metadata": {},
   "outputs": [],
   "source": [
    "nlp = spacy.load(\"en_core_web_sm\")"
   ]
  },
  {
   "cell_type": "code",
   "execution_count": null,
   "metadata": {},
   "outputs": [],
   "source": [
    "review_embs = []\n",
    "for review in tqdm(reviews[:10000]):\n",
    "    doc = nlp(review)\n",
    "    embs = []\n",
    "    for token in doc:\n",
    "        if token.text in model.words:\n",
    "            embs.append(model[token.text])\n",
    "    mean_emb = np.mean(np.array(embs), axis=0)\n",
    "    review_embs.append(mean_emb)"
   ]
  },
  {
   "cell_type": "code",
   "execution_count": null,
   "metadata": {},
   "outputs": [],
   "source": [
    "np.savetxt('review-embs-fasttext-10000.txt', np.array(review_embs), delimiter='\\t')"
   ]
  },
  {
   "cell_type": "code",
   "execution_count": null,
   "metadata": {},
   "outputs": [],
   "source": [
    "np.save('review-embs-fasttext-10000.npy', np.array(review_embs))"
   ]
  },
  {
   "cell_type": "code",
   "execution_count": null,
   "metadata": {},
   "outputs": [],
   "source": [
    "with open(\"reviews-26k.txt\", \"w\") as outf:\n",
    "    outf.write('\\n'.join([r.replace('\\n',' ')[:200] for r in all_reviews]))"
   ]
  },
  {
   "cell_type": "markdown",
   "metadata": {},
   "source": [
    "# Topic modelling"
   ]
  },
  {
   "cell_type": "code",
   "execution_count": 97,
   "metadata": {},
   "outputs": [],
   "source": [
    "lda_model = LdaModel(corpus=transformed_tfidf,\n",
    "                                           id2word=docs_dict,\n",
    "                                           num_topics=200, \n",
    "#                                            random_state=2,\n",
    "#                                            update_every=1,\n",
    "#                                            passes=10,\n",
    "                                           alpha='auto',\n",
    "                                           per_word_topics=True\n",
    "                    )"
   ]
  },
  {
   "cell_type": "code",
   "execution_count": null,
   "metadata": {},
   "outputs": [],
   "source": [
    "lda_model.show_topics()"
   ]
  },
  {
   "cell_type": "code",
   "execution_count": null,
   "metadata": {},
   "outputs": [],
   "source": [
    "dash = pyLDAvis.gensim.prepare(lda_model, docs_corpus, docs_dict)\n",
    "dash"
   ]
  },
  {
   "cell_type": "code",
   "execution_count": null,
   "metadata": {},
   "outputs": [],
   "source": [
    "def format_topics_sentences(ldamodel, corpus, texts):\n",
    "    # Init output\n",
    "    sent_topics_df = pd.DataFrame()\n",
    "    # Get main topic in each document\n",
    "    for i, row_list in enumerate(ldamodel[corpus]):\n",
    "        row = row_list[0] if ldamodel.per_word_topics else row_list            \n",
    "        # print(row)\n",
    "        row = sorted(row, key=lambda x: (x[1]), reverse=True)\n",
    "        # Get the Dominant topic, Perc Contribution and Keywords for each document\n",
    "        for j, (topic_num, prop_topic) in enumerate(row):\n",
    "            if j == 0:  # => dominant topic\n",
    "                wp = ldamodel.show_topic(topic_num)\n",
    "                topic_keywords = \", \".join([word for word, prop in wp])\n",
    "                sent_topics_df = sent_topics_df.append(pd.Series([int(topic_num), round(prop_topic,4), topic_keywords]), ignore_index=True)\n",
    "            else:\n",
    "                break\n",
    "    sent_topics_df.columns = ['Dominant_Topic', 'Perc_Contribution', 'Topic_Keywords']\n",
    "    # Add original text to the end of the output\n",
    "    contents = pd.Series(texts)\n",
    "    sent_topics_df = pd.concat([sent_topics_df, contents], axis=1)\n",
    "    return(sent_topics_df)\n",
    "df_topic_sents_keywords = format_topics_sentences(ldamodel=lda_model, corpus=docs_corpus,\n",
    "                                                  texts=list(att_agg_reviews.keys()))\n",
    "# Format\n",
    "df_dominant_topic = df_topic_sents_keywords.reset_index()\n",
    "df_dominant_topic.columns = ['Document_No', 'Dominant_Topic', 'Topic_Perc_Contrib', 'Keywords', 'Text']\n",
    "# Show\n",
    "df_dominant_topic.head(20)"
   ]
  }
 ],
 "metadata": {
  "kernelspec": {
   "display_name": "destinator",
   "language": "python",
   "name": "destinator"
  },
  "language_info": {
   "codemirror_mode": {
    "name": "ipython",
    "version": 3
   },
   "file_extension": ".py",
   "mimetype": "text/x-python",
   "name": "python",
   "nbconvert_exporter": "python",
   "pygments_lexer": "ipython3",
   "version": "3.6.1"
  }
 },
 "nbformat": 4,
 "nbformat_minor": 4
}
