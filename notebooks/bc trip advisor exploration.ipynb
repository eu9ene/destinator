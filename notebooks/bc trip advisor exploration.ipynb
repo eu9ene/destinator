{
 "cells": [
  {
   "cell_type": "code",
   "execution_count": 1,
   "metadata": {},
   "outputs": [],
   "source": [
    "import pandas as pd\n",
    "import json\n",
    "import spacy\n",
    "from spacy import displacy\n",
    "from tqdm import tqdm\n",
    "from collections import Counter\n",
    "# from dask.distributed import Client, progress\n",
    "# import dask.bag as db\n",
    "import math\n",
    "# from dask.diagnostics import ProgressBar\n",
    "# from laserembeddings import Laser\n",
    "import numpy as np\n",
    "import matplotlib.pyplot as plt\n",
    "import numpy as np\n",
    "\n"
   ]
  },
  {
   "cell_type": "markdown",
   "metadata": {},
   "source": [
    "# Loading"
   ]
  },
  {
   "cell_type": "code",
   "execution_count": 2,
   "metadata": {},
   "outputs": [],
   "source": [
    "def extract_category(row):\n",
    "\n",
    "    cat = row.category if 'category' in row else None\n",
    "    \n",
    "    if cat is None or pd.isna(cat) and 'type' in row and not pd.isna(row.type):\n",
    "        return row.type\n",
    "    elif isinstance(cat,dict) and 'key' in cat and not pd.isna(cat['key']):\n",
    "        return cat['key']\n",
    "    elif 'ranking_category' in row and not pd.isna(row.ranking_category):\n",
    "        return row.ranking_category\n",
    "    return cat"
   ]
  },
  {
   "cell_type": "code",
   "execution_count": 4,
   "metadata": {},
   "outputs": [],
   "source": [
    "data_df = pd.read_json('/Users/danmer/travel_data/source/bc_clean.json')\n",
    "van_df = pd.read_json('/Users/danmer/travel_data/source/vancouver_clean.json')\n",
    "data_df = pd.concat([data_df, van_df])"
   ]
  },
  {
   "cell_type": "code",
   "execution_count": 5,
   "metadata": {},
   "outputs": [
    {
     "name": "stdout",
     "output_type": "stream",
     "text": [
      "<class 'pandas.core.frame.DataFrame'>\n",
      "Int64Index: 26241 entries, 0 to 6211\n",
      "Data columns (total 73 columns):\n",
      " #   Column                                     Non-Null Count  Dtype  \n",
      "---  ------                                     --------------  -----  \n",
      " 0   id                                         20513 non-null  float64\n",
      " 1   type                                       20513 non-null  object \n",
      " 2   name                                       26241 non-null  object \n",
      " 3   awards                                     26241 non-null  object \n",
      " 4   rankingPosition                            4377 non-null   float64\n",
      " 5   priceLevel                                 20513 non-null  object \n",
      " 6   category                                   10105 non-null  object \n",
      " 7   rating                                     23172 non-null  float64\n",
      " 8   hotelClass                                 1323 non-null   float64\n",
      " 9   phone                                      23614 non-null  object \n",
      " 10  address                                    26241 non-null  object \n",
      " 11  email                                      10010 non-null  object \n",
      " 12  amenities                                  1323 non-null   object \n",
      " 13  prices                                     1323 non-null   object \n",
      " 14  latitude                                   25689 non-null  float64\n",
      " 15  longitude                                  25689 non-null  float64\n",
      " 16  webUrl                                     20513 non-null  object \n",
      " 17  website                                    21492 non-null  object \n",
      " 18  rankingString                              4377 non-null   object \n",
      " 19  numberOfReviews                            20513 non-null  float64\n",
      " 20  rankingDenominator                         4377 non-null   float64\n",
      " 21  reviews                                    26241 non-null  object \n",
      " 22  hotelClassAttribution                      9 non-null      object \n",
      " 23  isClosed                                   19190 non-null  float64\n",
      " 24  isLongClosed                               19190 non-null  float64\n",
      " 25  cuisine                                    19190 non-null  object \n",
      " 26  hours                                      21313 non-null  object \n",
      " 27  location_id                                5728 non-null   float64\n",
      " 28  num_reviews                                5728 non-null   float64\n",
      " 29  timezone                                   5728 non-null   object \n",
      " 30  location_string                            5728 non-null   object \n",
      " 31  photo                                      4965 non-null   object \n",
      " 32  api_detail_url                             5728 non-null   object \n",
      " 33  location_subtype                           5728 non-null   object \n",
      " 34  doubleclick_zone                           5728 non-null   object \n",
      " 35  preferred_map_engine                       5728 non-null   object \n",
      " 36  raw_ranking                                5067 non-null   float64\n",
      " 37  ranking_geo                                5067 non-null   object \n",
      " 38  ranking_geo_id                             5067 non-null   float64\n",
      " 39  ranking_position                           5067 non-null   float64\n",
      " 40  ranking_denominator                        5067 non-null   float64\n",
      " 41  ranking_category                           5067 non-null   object \n",
      " 42  ranking_subcategory                        5067 non-null   object \n",
      " 43  subcategory_ranking                        5067 non-null   object \n",
      " 44  ranking                                    5067 non-null   object \n",
      " 45  distance                                   0 non-null      float64\n",
      " 46  distance_string                            0 non-null      float64\n",
      " 47  bearing                                    0 non-null      float64\n",
      " 48  is_closed                                  5728 non-null   float64\n",
      " 49  is_long_closed                             5728 non-null   float64\n",
      " 50  description                                5728 non-null   object \n",
      " 51  web_url                                    5728 non-null   object \n",
      " 52  write_review                               5728 non-null   object \n",
      " 53  ancestors                                  5728 non-null   object \n",
      " 54  subcategory                                5728 non-null   object \n",
      " 55  parent_display_name                        5728 non-null   object \n",
      " 56  is_jfy_enabled                             5728 non-null   float64\n",
      " 57  nearest_metro_station                      5728 non-null   object \n",
      " 58  address_obj                                5728 non-null   object \n",
      " 59  is_candidate_for_contact_info_suppression  5728 non-null   float64\n",
      " 60  subtype                                    5728 non-null   object \n",
      " 61  tags                                       5728 non-null   object \n",
      " 62  shopping_type                              5728 non-null   object \n",
      " 63  open_now_text                              2123 non-null   object \n",
      " 64  booking                                    1305 non-null   object \n",
      " 65  offer_group                                1305 non-null   object \n",
      " 66  animal_welfare_tag                         422 non-null    object \n",
      " 67  fee                                        160 non-null    object \n",
      " 68  neighborhood_info                          2149 non-null   object \n",
      " 69  waypoint_info                              8 non-null      object \n",
      " 70  ta_message                                 6 non-null      object \n",
      " 71  machine_translated                         164 non-null    float64\n",
      " 72  translation_vendor                         12 non-null     object \n",
      "dtypes: float64(24), object(49)\n",
      "memory usage: 14.8+ MB\n"
     ]
    }
   ],
   "source": [
    "data_df.info()"
   ]
  },
  {
   "cell_type": "code",
   "execution_count": 6,
   "metadata": {},
   "outputs": [],
   "source": [
    "data_df.category = data_df.apply(extract_category, axis=1)"
   ]
  },
  {
   "cell_type": "code",
   "execution_count": 7,
   "metadata": {},
   "outputs": [
    {
     "data": {
      "text/plain": [
       "array(['hotel', 'HOTEL', 'RESTAURANT', 'attraction', 'restaurant'],\n",
       "      dtype=object)"
      ]
     },
     "execution_count": 7,
     "metadata": {},
     "output_type": "execute_result"
    }
   ],
   "source": [
    "data_df.category.unique()"
   ]
  },
  {
   "cell_type": "code",
   "execution_count": 8,
   "metadata": {},
   "outputs": [
    {
     "data": {
      "text/plain": [
       "RESTAURANT    16108\n",
       "attraction     5728\n",
       "restaurant     3082\n",
       "hotel          1295\n",
       "HOTEL            28\n",
       "Name: category, dtype: int64"
      ]
     },
     "execution_count": 8,
     "metadata": {},
     "output_type": "execute_result"
    }
   ],
   "source": [
    "data_df.category.value_counts()"
   ]
  },
  {
   "cell_type": "code",
   "execution_count": 192,
   "metadata": {},
   "outputs": [
    {
     "data": {
      "text/html": [
       "<div>\n",
       "<style scoped>\n",
       "    .dataframe tbody tr th:only-of-type {\n",
       "        vertical-align: middle;\n",
       "    }\n",
       "\n",
       "    .dataframe tbody tr th {\n",
       "        vertical-align: top;\n",
       "    }\n",
       "\n",
       "    .dataframe thead th {\n",
       "        text-align: right;\n",
       "    }\n",
       "</style>\n",
       "<table border=\"1\" class=\"dataframe\">\n",
       "  <thead>\n",
       "    <tr style=\"text-align: right;\">\n",
       "      <th></th>\n",
       "      <th>name</th>\n",
       "      <th>rating</th>\n",
       "      <th>reviews</th>\n",
       "      <th>website</th>\n",
       "      <th>num_reviews</th>\n",
       "    </tr>\n",
       "  </thead>\n",
       "  <tbody>\n",
       "    <tr>\n",
       "      <th>17548</th>\n",
       "      <td>Stanley Park</td>\n",
       "      <td>4.5</td>\n",
       "      <td>[{'language': 'en', 'title': 'Stanley Park  Je...</td>\n",
       "      <td>http://vancouver.ca/parks-recreation-culture/s...</td>\n",
       "      <td>2072</td>\n",
       "    </tr>\n",
       "    <tr>\n",
       "      <th>17229</th>\n",
       "      <td>Granville Island</td>\n",
       "      <td>4.5</td>\n",
       "      <td>[{'language': 'en', 'title': 'Very quiet islan...</td>\n",
       "      <td>http://granvilleisland.com/</td>\n",
       "      <td>1719</td>\n",
       "    </tr>\n",
       "    <tr>\n",
       "      <th>4173</th>\n",
       "      <td>Rocky Mountaineer</td>\n",
       "      <td>4.5</td>\n",
       "      <td>[{'language': 'en', 'title': 'Canada closing b...</td>\n",
       "      <td>http://www.rockymountaineer.com/en_US/routes_a...</td>\n",
       "      <td>1236</td>\n",
       "    </tr>\n",
       "    <tr>\n",
       "      <th>17885</th>\n",
       "      <td>The Butchart Gardens</td>\n",
       "      <td>4.5</td>\n",
       "      <td>[{'language': 'en', 'title': 'Walk in the gard...</td>\n",
       "      <td>http://www.butchartgardens.com</td>\n",
       "      <td>995</td>\n",
       "    </tr>\n",
       "    <tr>\n",
       "      <th>16860</th>\n",
       "      <td>Capilano Suspension Bridge Park</td>\n",
       "      <td>4.5</td>\n",
       "      <td>[{'language': 'en', 'title': 'Amazing ', 'text...</td>\n",
       "      <td>http://www.capbridge.com/</td>\n",
       "      <td>521</td>\n",
       "    </tr>\n",
       "  </tbody>\n",
       "</table>\n",
       "</div>"
      ],
      "text/plain": [
       "                                  name  rating  \\\n",
       "17548                     Stanley Park     4.5   \n",
       "17229                 Granville Island     4.5   \n",
       "4173                 Rocky Mountaineer     4.5   \n",
       "17885             The Butchart Gardens     4.5   \n",
       "16860  Capilano Suspension Bridge Park     4.5   \n",
       "\n",
       "                                                 reviews  \\\n",
       "17548  [{'language': 'en', 'title': 'Stanley Park  Je...   \n",
       "17229  [{'language': 'en', 'title': 'Very quiet islan...   \n",
       "4173   [{'language': 'en', 'title': 'Canada closing b...   \n",
       "17885  [{'language': 'en', 'title': 'Walk in the gard...   \n",
       "16860  [{'language': 'en', 'title': 'Amazing ', 'text...   \n",
       "\n",
       "                                                 website  num_reviews  \n",
       "17548  http://vancouver.ca/parks-recreation-culture/s...         2072  \n",
       "17229                        http://granvilleisland.com/         1719  \n",
       "4173   http://www.rockymountaineer.com/en_US/routes_a...         1236  \n",
       "17885                     http://www.butchartgardens.com          995  \n",
       "16860                          http://www.capbridge.com/          521  "
      ]
     },
     "execution_count": 192,
     "metadata": {},
     "output_type": "execute_result"
    }
   ],
   "source": [
    "attractions = data_df[(data_df.category == 'attraction') & (data_df.rating.notnull())][['name','rating','reviews', 'website']]\n",
    "attractions['num_reviews'] = attractions.apply(lambda r: len(r.reviews) if 'reviews' in r else 0, axis=1)\n",
    "attractions.sort_values('num_reviews',ascending=False).drop_duplicates('name').head(5)"
   ]
  },
  {
   "cell_type": "code",
   "execution_count": 133,
   "metadata": {},
   "outputs": [
    {
     "data": {
      "text/html": [
       "<div>\n",
       "<style scoped>\n",
       "    .dataframe tbody tr th:only-of-type {\n",
       "        vertical-align: middle;\n",
       "    }\n",
       "\n",
       "    .dataframe tbody tr th {\n",
       "        vertical-align: top;\n",
       "    }\n",
       "\n",
       "    .dataframe thead th {\n",
       "        text-align: right;\n",
       "    }\n",
       "</style>\n",
       "<table border=\"1\" class=\"dataframe\">\n",
       "  <thead>\n",
       "    <tr style=\"text-align: right;\">\n",
       "      <th></th>\n",
       "      <th>name</th>\n",
       "      <th>rating</th>\n",
       "      <th>reviews</th>\n",
       "      <th>website</th>\n",
       "      <th>num_reviews</th>\n",
       "    </tr>\n",
       "  </thead>\n",
       "  <tbody>\n",
       "    <tr>\n",
       "      <th>17952</th>\n",
       "      <td>Vancouver Seawall</td>\n",
       "      <td>5.0</td>\n",
       "      <td>[{'language': 'en', 'title': 'Rented bikes and...</td>\n",
       "      <td>http://www.tourismvancouver.com/activities/hik...</td>\n",
       "      <td>259</td>\n",
       "    </tr>\n",
       "    <tr>\n",
       "      <th>17630</th>\n",
       "      <td>Wild Pacific Trail</td>\n",
       "      <td>5.0</td>\n",
       "      <td>[{'language': 'en', 'title': 'Trail run', 'tex...</td>\n",
       "      <td>http://www.wildpacifictrail.com/</td>\n",
       "      <td>180</td>\n",
       "    </tr>\n",
       "    <tr>\n",
       "      <th>16761</th>\n",
       "      <td>Myra Canyon Park</td>\n",
       "      <td>5.0</td>\n",
       "      <td>[{'language': 'en', 'title': 'Amazing!', 'text...</td>\n",
       "      <td>http://www.myratrestles.com</td>\n",
       "      <td>124</td>\n",
       "    </tr>\n",
       "    <tr>\n",
       "      <th>16942</th>\n",
       "      <td>Chesterman Beach</td>\n",
       "      <td>5.0</td>\n",
       "      <td>[{'language': 'en', 'title': 'stunning beach',...</td>\n",
       "      <td>NaN</td>\n",
       "      <td>88</td>\n",
       "    </tr>\n",
       "    <tr>\n",
       "      <th>16781</th>\n",
       "      <td>Pacific Rim National Park</td>\n",
       "      <td>5.0</td>\n",
       "      <td>[{'language': 'en', 'title': 'Stunning', 'text...</td>\n",
       "      <td>http://pc.gc.ca/pacificrim</td>\n",
       "      <td>68</td>\n",
       "    </tr>\n",
       "  </tbody>\n",
       "</table>\n",
       "</div>"
      ],
      "text/plain": [
       "                            name  rating  \\\n",
       "17952          Vancouver Seawall     5.0   \n",
       "17630         Wild Pacific Trail     5.0   \n",
       "16761           Myra Canyon Park     5.0   \n",
       "16942           Chesterman Beach     5.0   \n",
       "16781  Pacific Rim National Park     5.0   \n",
       "\n",
       "                                                 reviews  \\\n",
       "17952  [{'language': 'en', 'title': 'Rented bikes and...   \n",
       "17630  [{'language': 'en', 'title': 'Trail run', 'tex...   \n",
       "16761  [{'language': 'en', 'title': 'Amazing!', 'text...   \n",
       "16942  [{'language': 'en', 'title': 'stunning beach',...   \n",
       "16781  [{'language': 'en', 'title': 'Stunning', 'text...   \n",
       "\n",
       "                                                 website  num_reviews  \n",
       "17952  http://www.tourismvancouver.com/activities/hik...          259  \n",
       "17630                   http://www.wildpacifictrail.com/          180  \n",
       "16761                        http://www.myratrestles.com          124  \n",
       "16942                                                NaN           88  \n",
       "16781                         http://pc.gc.ca/pacificrim           68  "
      ]
     },
     "execution_count": 133,
     "metadata": {},
     "output_type": "execute_result"
    }
   ],
   "source": [
    "attractions[attractions.rating == 5].sort_values('num_reviews',ascending=False).drop_duplicates('name').head(5)"
   ]
  },
  {
   "cell_type": "code",
   "execution_count": 44,
   "metadata": {},
   "outputs": [
    {
     "data": {
      "text/html": [
       "<div>\n",
       "<style scoped>\n",
       "    .dataframe tbody tr th:only-of-type {\n",
       "        vertical-align: middle;\n",
       "    }\n",
       "\n",
       "    .dataframe tbody tr th {\n",
       "        vertical-align: top;\n",
       "    }\n",
       "\n",
       "    .dataframe thead th {\n",
       "        text-align: right;\n",
       "    }\n",
       "</style>\n",
       "<table border=\"1\" class=\"dataframe\">\n",
       "  <thead>\n",
       "    <tr style=\"text-align: right;\">\n",
       "      <th></th>\n",
       "      <th>name</th>\n",
       "      <th>rating</th>\n",
       "      <th>reviews</th>\n",
       "      <th>num_reviews</th>\n",
       "    </tr>\n",
       "  </thead>\n",
       "  <tbody>\n",
       "    <tr>\n",
       "      <th>1610</th>\n",
       "      <td>Glowbal</td>\n",
       "      <td>4.5</td>\n",
       "      <td>[{'text': 'We went to Glowbal to celebrate my ...</td>\n",
       "      <td>855</td>\n",
       "    </tr>\n",
       "    <tr>\n",
       "      <th>1872</th>\n",
       "      <td>Black + Blue</td>\n",
       "      <td>4.5</td>\n",
       "      <td>[{'text': 'Had a good time and meal there. Had...</td>\n",
       "      <td>575</td>\n",
       "    </tr>\n",
       "    <tr>\n",
       "      <th>1659</th>\n",
       "      <td>IL Terrazzo</td>\n",
       "      <td>4.5</td>\n",
       "      <td>[{'text': 'Great choice in Victoria!\n",
       "\n",
       "1.  Food...</td>\n",
       "      <td>482</td>\n",
       "    </tr>\n",
       "    <tr>\n",
       "      <th>1371</th>\n",
       "      <td>Italian Kitchen</td>\n",
       "      <td>4.5</td>\n",
       "      <td>[{'text': 'The restaurant is bustling and hect...</td>\n",
       "      <td>463</td>\n",
       "    </tr>\n",
       "    <tr>\n",
       "      <th>1528</th>\n",
       "      <td>Cardero's Restaurant &amp; Live Bait Marine Pub</td>\n",
       "      <td>4.5</td>\n",
       "      <td>[{'text': 'Went for a casual lunch and as usua...</td>\n",
       "      <td>409</td>\n",
       "    </tr>\n",
       "  </tbody>\n",
       "</table>\n",
       "</div>"
      ],
      "text/plain": [
       "                                             name  rating  \\\n",
       "1610                                      Glowbal     4.5   \n",
       "1872                                 Black + Blue     4.5   \n",
       "1659                                  IL Terrazzo     4.5   \n",
       "1371                              Italian Kitchen     4.5   \n",
       "1528  Cardero's Restaurant & Live Bait Marine Pub     4.5   \n",
       "\n",
       "                                                reviews  num_reviews  \n",
       "1610  [{'text': 'We went to Glowbal to celebrate my ...          855  \n",
       "1872  [{'text': 'Had a good time and meal there. Had...          575  \n",
       "1659  [{'text': 'Great choice in Victoria!\n",
       "\n",
       "1.  Food...          482  \n",
       "1371  [{'text': 'The restaurant is bustling and hect...          463  \n",
       "1528  [{'text': 'Went for a casual lunch and as usua...          409  "
      ]
     },
     "execution_count": 44,
     "metadata": {},
     "output_type": "execute_result"
    }
   ],
   "source": [
    "restaurants = data_df[(data_df.category == 'RESTAURANT') & (data_df.rating.notnull())][['name','rating','reviews']]\n",
    "restaurants['num_reviews'] = restaurants.apply(lambda r: len(r.reviews) if 'reviews' in r else 0, axis=1)\n",
    "restaurants.sort_values('num_reviews',ascending=False).drop_duplicates('name').head(5)"
   ]
  },
  {
   "cell_type": "code",
   "execution_count": 12,
   "metadata": {},
   "outputs": [
    {
     "data": {
      "text/plain": [
       "1385"
      ]
     },
     "execution_count": 12,
     "metadata": {},
     "output_type": "execute_result"
    }
   ],
   "source": [
    "descriptions = list(data_df[(data_df.category == 'attraction') & (data_df.description.notnull()) \\\n",
    "                            & (data_df.description!='')].description)\n",
    "len(descriptions)"
   ]
  },
  {
   "cell_type": "code",
   "execution_count": null,
   "metadata": {},
   "outputs": [],
   "source": []
  },
  {
   "cell_type": "code",
   "execution_count": 202,
   "metadata": {},
   "outputs": [],
   "source": []
  },
  {
   "cell_type": "markdown",
   "metadata": {},
   "source": [
    "## review embeddings"
   ]
  },
  {
   "cell_type": "code",
   "execution_count": 17,
   "metadata": {},
   "outputs": [],
   "source": [
    "laser = Laser()\n",
    "embs = laser.embed_sentences(reviews[:1000], lang='en')\n",
    "# https://projector.tensorflow.org/"
   ]
  },
  {
   "cell_type": "code",
   "execution_count": 20,
   "metadata": {},
   "outputs": [],
   "source": [
    "np.save('review-embs', embs)"
   ]
  },
  {
   "cell_type": "code",
   "execution_count": 23,
   "metadata": {},
   "outputs": [],
   "source": [
    "np.savetxt('review-embs.txt', embs, delimiter='\\t')"
   ]
  },
  {
   "cell_type": "code",
   "execution_count": 45,
   "metadata": {},
   "outputs": [],
   "source": [
    "with open(\"reviews-10000.txt\", \"w\") as outf:\n",
    "    outf.write('\\n'.join([r.replace('\\n',' ')[:200] for r in reviews[:10000]]))"
   ]
  },
  {
   "cell_type": "code",
   "execution_count": 5,
   "metadata": {},
   "outputs": [
    {
     "name": "stderr",
     "output_type": "stream",
     "text": [
      "Warning : `load_model` does not return WordVectorModel or SupervisedModel any more, but a `FastText` object which is very similar.\n"
     ]
    }
   ],
   "source": [
    "import fasttext\n",
    "model = fasttext.load_model('/Users/danmer/deep-pdf-data/cc.en.300.bin')"
   ]
  },
  {
   "cell_type": "code",
   "execution_count": 2,
   "metadata": {},
   "outputs": [],
   "source": [
    "nlp = spacy.load(\"en_core_web_sm\")"
   ]
  },
  {
   "cell_type": "code",
   "execution_count": 42,
   "metadata": {},
   "outputs": [
    {
     "name": "stderr",
     "output_type": "stream",
     "text": [
      "100%|██████████| 10000/10000 [13:03<00:00, 12.76it/s] \n"
     ]
    }
   ],
   "source": [
    "review_embs = []\n",
    "for review in tqdm(reviews[:10000]):\n",
    "    doc = nlp(review)\n",
    "    embs = []\n",
    "    for token in doc:\n",
    "        if token.text in model.words:\n",
    "            embs.append(model[token.text])\n",
    "    mean_emb = np.mean(np.array(embs), axis=0)\n",
    "    review_embs.append(mean_emb)"
   ]
  },
  {
   "cell_type": "code",
   "execution_count": 44,
   "metadata": {},
   "outputs": [],
   "source": [
    "np.savetxt('review-embs-fasttext-10000.txt', np.array(review_embs), delimiter='\\t')"
   ]
  },
  {
   "cell_type": "code",
   "execution_count": 46,
   "metadata": {},
   "outputs": [],
   "source": [
    "np.save('review-embs-fasttext-10000.npy', np.array(review_embs))"
   ]
  },
  {
   "cell_type": "code",
   "execution_count": 77,
   "metadata": {},
   "outputs": [],
   "source": [
    "with open(\"reviews-26k.txt\", \"w\") as outf:\n",
    "    outf.write('\\n'.join([r.replace('\\n',' ')[:200] for r in all_reviews]))"
   ]
  },
  {
   "cell_type": "markdown",
   "metadata": {},
   "source": [
    "## Glove + TF/IDF"
   ]
  },
  {
   "cell_type": "code",
   "execution_count": 9,
   "metadata": {},
   "outputs": [
    {
     "name": "stdout",
     "output_type": "stream",
     "text": [
      "skipped: 0\n"
     ]
    },
    {
     "data": {
      "text/plain": [
       "1999"
      ]
     },
     "execution_count": 9,
     "metadata": {},
     "output_type": "execute_result"
    }
   ],
   "source": [
    "\n",
    "att_agg_reviews = {}\n",
    "skipped = 0\n",
    "att_df = data_df[(data_df.category == 'attraction')].drop_duplicates('name')[['name', 'reviews']]\n",
    "for idx, (id, row) in enumerate(att_df.iterrows()):\n",
    "    name, reviews = row\n",
    "    res_reviews = []\n",
    "\n",
    "    for rev in reviews:\n",
    "        try:\n",
    "            if rev['language'] == 'en':\n",
    "                res_reviews.append(rev['text'])\n",
    "        except Exception as ex:\n",
    "            skipped += 1\n",
    "            pass\n",
    "    att_agg_reviews[name] = '\\n'.join(res_reviews)\n",
    "print(f'skipped: {skipped}')\n",
    "len(att_agg_reviews)"
   ]
  },
  {
   "cell_type": "code",
   "execution_count": 10,
   "metadata": {},
   "outputs": [],
   "source": [
    "import spacy\n",
    "from gensim.corpora import Dictionary\n",
    "from gensim.models.tfidfmodel import TfidfModel\n",
    "from gensim.matutils import sparse2full\n",
    "import numpy as np\n",
    "\n",
    "nlp  = spacy.load('en_core_web_md')"
   ]
  },
  {
   "cell_type": "code",
   "execution_count": 11,
   "metadata": {},
   "outputs": [],
   "source": [
    "\n",
    "def nlp_doc(doc):\n",
    "    def keep_token(t):\n",
    "        return (t.is_alpha and \n",
    "                not (t.is_space or t.is_punct or \n",
    "                     t.is_stop or t.like_num))\n",
    "\n",
    "    def lemmatize_doc(doc):\n",
    "        return [ t.lemma_ for t in doc if keep_token(t)]\n",
    "    \n",
    "    return lemmatize_doc(nlp(doc))\n",
    "    \n",
    "\n",
    "def build_tfidf(docs, path):\n",
    "    docs = [nlp_doc(d) for d in docs]\n",
    "    docs_dict = Dictionary(docs)\n",
    "    docs_dict.filter_extremes(no_below=20, no_above=0.2)\n",
    "    docs_dict.compactify()\n",
    "\n",
    "    docs_corpus = [docs_dict.doc2bow(doc) for doc in docs]\n",
    "    model_tfidf = TfidfModel(docs_corpus, id2word=docs_dict)\n",
    "    \n",
    "    model_tfidf.save(path)\n",
    "    \n",
    "def load_tfidf(path):\n",
    "    return TfidfModel.load(path)\n",
    "\n",
    "def get_embs(model_tfidf, docs):\n",
    "    # http://dsgeek.com/2018/02/19/tfidf_vectors.html\n",
    "    docs = [nlp_doc(d) for d in docs]\n",
    "    docs_tfidf  = model_tfidf[docs]\n",
    "    docs_vecs   = np.vstack([sparse2full(c, len(docs)) for c in docs_tfidf])\n",
    "\n",
    "    tfidf_emb_vecs = np.vstack([nlp(docs[i]).vector for i in range(len(docs))])\n",
    "    docs_emb = np.dot(docs_vecs, tfidf_emb_vecs) \n",
    "    \n",
    "    return docs_emb\n"
   ]
  },
  {
   "cell_type": "code",
   "execution_count": 37,
   "metadata": {},
   "outputs": [],
   "source": [
    "docs = list(att_agg_reviews.values())[:10]"
   ]
  },
  {
   "cell_type": "code",
   "execution_count": 40,
   "metadata": {},
   "outputs": [],
   "source": [
    "docs_ = [nlp_doc(d) for d in docs]"
   ]
  },
  {
   "cell_type": "code",
   "execution_count": 41,
   "metadata": {},
   "outputs": [
    {
     "ename": "AttributeError",
     "evalue": "'list' object has no attribute 'lower'",
     "output_type": "error",
     "traceback": [
      "\u001b[0;31m---------------------------------------------------------------------------\u001b[0m",
      "\u001b[0;31mAttributeError\u001b[0m                            Traceback (most recent call last)",
      "\u001b[0;32m<ipython-input-41-67de70033875>\u001b[0m in \u001b[0;36m<module>\u001b[0;34m\u001b[0m\n\u001b[1;32m      1\u001b[0m \u001b[0;32mfrom\u001b[0m \u001b[0msklearn\u001b[0m\u001b[0;34m.\u001b[0m\u001b[0mfeature_extraction\u001b[0m\u001b[0;34m.\u001b[0m\u001b[0mtext\u001b[0m \u001b[0;32mimport\u001b[0m \u001b[0mTfidfVectorizer\u001b[0m\u001b[0;34m\u001b[0m\u001b[0m\n\u001b[1;32m      2\u001b[0m \u001b[0mvectorizer\u001b[0m \u001b[0;34m=\u001b[0m \u001b[0mTfidfVectorizer\u001b[0m\u001b[0;34m(\u001b[0m\u001b[0;34m)\u001b[0m\u001b[0;34m\u001b[0m\u001b[0m\n\u001b[0;32m----> 3\u001b[0;31m \u001b[0mX\u001b[0m \u001b[0;34m=\u001b[0m \u001b[0mvectorizer\u001b[0m\u001b[0;34m.\u001b[0m\u001b[0mfit\u001b[0m\u001b[0;34m(\u001b[0m\u001b[0mdocs_\u001b[0m\u001b[0;34m)\u001b[0m\u001b[0;34m\u001b[0m\u001b[0m\n\u001b[0m",
      "\u001b[0;32m~/Library/Caches/pypoetry/virtualenvs/travel-data-yzWrfArT-py3.6/lib/python3.6/site-packages/sklearn/feature_extraction/text.py\u001b[0m in \u001b[0;36mfit\u001b[0;34m(self, raw_documents, y)\u001b[0m\n\u001b[1;32m   1815\u001b[0m         \u001b[0mself\u001b[0m\u001b[0;34m.\u001b[0m\u001b[0m_check_params\u001b[0m\u001b[0;34m(\u001b[0m\u001b[0;34m)\u001b[0m\u001b[0;34m\u001b[0m\u001b[0m\n\u001b[1;32m   1816\u001b[0m         \u001b[0mself\u001b[0m\u001b[0;34m.\u001b[0m\u001b[0m_warn_for_unused_params\u001b[0m\u001b[0;34m(\u001b[0m\u001b[0;34m)\u001b[0m\u001b[0;34m\u001b[0m\u001b[0m\n\u001b[0;32m-> 1817\u001b[0;31m         \u001b[0mX\u001b[0m \u001b[0;34m=\u001b[0m \u001b[0msuper\u001b[0m\u001b[0;34m(\u001b[0m\u001b[0;34m)\u001b[0m\u001b[0;34m.\u001b[0m\u001b[0mfit_transform\u001b[0m\u001b[0;34m(\u001b[0m\u001b[0mraw_documents\u001b[0m\u001b[0;34m)\u001b[0m\u001b[0;34m\u001b[0m\u001b[0m\n\u001b[0m\u001b[1;32m   1818\u001b[0m         \u001b[0mself\u001b[0m\u001b[0;34m.\u001b[0m\u001b[0m_tfidf\u001b[0m\u001b[0;34m.\u001b[0m\u001b[0mfit\u001b[0m\u001b[0;34m(\u001b[0m\u001b[0mX\u001b[0m\u001b[0;34m)\u001b[0m\u001b[0;34m\u001b[0m\u001b[0m\n\u001b[1;32m   1819\u001b[0m         \u001b[0;32mreturn\u001b[0m \u001b[0mself\u001b[0m\u001b[0;34m\u001b[0m\u001b[0m\n",
      "\u001b[0;32m~/Library/Caches/pypoetry/virtualenvs/travel-data-yzWrfArT-py3.6/lib/python3.6/site-packages/sklearn/feature_extraction/text.py\u001b[0m in \u001b[0;36mfit_transform\u001b[0;34m(self, raw_documents, y)\u001b[0m\n\u001b[1;32m   1197\u001b[0m \u001b[0;34m\u001b[0m\u001b[0m\n\u001b[1;32m   1198\u001b[0m         vocabulary, X = self._count_vocab(raw_documents,\n\u001b[0;32m-> 1199\u001b[0;31m                                           self.fixed_vocabulary_)\n\u001b[0m\u001b[1;32m   1200\u001b[0m \u001b[0;34m\u001b[0m\u001b[0m\n\u001b[1;32m   1201\u001b[0m         \u001b[0;32mif\u001b[0m \u001b[0mself\u001b[0m\u001b[0;34m.\u001b[0m\u001b[0mbinary\u001b[0m\u001b[0;34m:\u001b[0m\u001b[0;34m\u001b[0m\u001b[0m\n",
      "\u001b[0;32m~/Library/Caches/pypoetry/virtualenvs/travel-data-yzWrfArT-py3.6/lib/python3.6/site-packages/sklearn/feature_extraction/text.py\u001b[0m in \u001b[0;36m_count_vocab\u001b[0;34m(self, raw_documents, fixed_vocab)\u001b[0m\n\u001b[1;32m   1108\u001b[0m         \u001b[0;32mfor\u001b[0m \u001b[0mdoc\u001b[0m \u001b[0;32min\u001b[0m \u001b[0mraw_documents\u001b[0m\u001b[0;34m:\u001b[0m\u001b[0;34m\u001b[0m\u001b[0m\n\u001b[1;32m   1109\u001b[0m             \u001b[0mfeature_counter\u001b[0m \u001b[0;34m=\u001b[0m \u001b[0;34m{\u001b[0m\u001b[0;34m}\u001b[0m\u001b[0;34m\u001b[0m\u001b[0m\n\u001b[0;32m-> 1110\u001b[0;31m             \u001b[0;32mfor\u001b[0m \u001b[0mfeature\u001b[0m \u001b[0;32min\u001b[0m \u001b[0manalyze\u001b[0m\u001b[0;34m(\u001b[0m\u001b[0mdoc\u001b[0m\u001b[0;34m)\u001b[0m\u001b[0;34m:\u001b[0m\u001b[0;34m\u001b[0m\u001b[0m\n\u001b[0m\u001b[1;32m   1111\u001b[0m                 \u001b[0;32mtry\u001b[0m\u001b[0;34m:\u001b[0m\u001b[0;34m\u001b[0m\u001b[0m\n\u001b[1;32m   1112\u001b[0m                     \u001b[0mfeature_idx\u001b[0m \u001b[0;34m=\u001b[0m \u001b[0mvocabulary\u001b[0m\u001b[0;34m[\u001b[0m\u001b[0mfeature\u001b[0m\u001b[0;34m]\u001b[0m\u001b[0;34m\u001b[0m\u001b[0m\n",
      "\u001b[0;32m~/Library/Caches/pypoetry/virtualenvs/travel-data-yzWrfArT-py3.6/lib/python3.6/site-packages/sklearn/feature_extraction/text.py\u001b[0m in \u001b[0;36m_analyze\u001b[0;34m(doc, analyzer, tokenizer, ngrams, preprocessor, decoder, stop_words)\u001b[0m\n\u001b[1;32m    102\u001b[0m     \u001b[0;32melse\u001b[0m\u001b[0;34m:\u001b[0m\u001b[0;34m\u001b[0m\u001b[0m\n\u001b[1;32m    103\u001b[0m         \u001b[0;32mif\u001b[0m \u001b[0mpreprocessor\u001b[0m \u001b[0;32mis\u001b[0m \u001b[0;32mnot\u001b[0m \u001b[0;32mNone\u001b[0m\u001b[0;34m:\u001b[0m\u001b[0;34m\u001b[0m\u001b[0m\n\u001b[0;32m--> 104\u001b[0;31m             \u001b[0mdoc\u001b[0m \u001b[0;34m=\u001b[0m \u001b[0mpreprocessor\u001b[0m\u001b[0;34m(\u001b[0m\u001b[0mdoc\u001b[0m\u001b[0;34m)\u001b[0m\u001b[0;34m\u001b[0m\u001b[0m\n\u001b[0m\u001b[1;32m    105\u001b[0m         \u001b[0;32mif\u001b[0m \u001b[0mtokenizer\u001b[0m \u001b[0;32mis\u001b[0m \u001b[0;32mnot\u001b[0m \u001b[0;32mNone\u001b[0m\u001b[0;34m:\u001b[0m\u001b[0;34m\u001b[0m\u001b[0m\n\u001b[1;32m    106\u001b[0m             \u001b[0mdoc\u001b[0m \u001b[0;34m=\u001b[0m \u001b[0mtokenizer\u001b[0m\u001b[0;34m(\u001b[0m\u001b[0mdoc\u001b[0m\u001b[0;34m)\u001b[0m\u001b[0;34m\u001b[0m\u001b[0m\n",
      "\u001b[0;32m~/Library/Caches/pypoetry/virtualenvs/travel-data-yzWrfArT-py3.6/lib/python3.6/site-packages/sklearn/feature_extraction/text.py\u001b[0m in \u001b[0;36m_preprocess\u001b[0;34m(doc, accent_function, lower)\u001b[0m\n\u001b[1;32m     67\u001b[0m     \"\"\"\n\u001b[1;32m     68\u001b[0m     \u001b[0;32mif\u001b[0m \u001b[0mlower\u001b[0m\u001b[0;34m:\u001b[0m\u001b[0;34m\u001b[0m\u001b[0m\n\u001b[0;32m---> 69\u001b[0;31m         \u001b[0mdoc\u001b[0m \u001b[0;34m=\u001b[0m \u001b[0mdoc\u001b[0m\u001b[0;34m.\u001b[0m\u001b[0mlower\u001b[0m\u001b[0;34m(\u001b[0m\u001b[0;34m)\u001b[0m\u001b[0;34m\u001b[0m\u001b[0m\n\u001b[0m\u001b[1;32m     70\u001b[0m     \u001b[0;32mif\u001b[0m \u001b[0maccent_function\u001b[0m \u001b[0;32mis\u001b[0m \u001b[0;32mnot\u001b[0m \u001b[0;32mNone\u001b[0m\u001b[0;34m:\u001b[0m\u001b[0;34m\u001b[0m\u001b[0m\n\u001b[1;32m     71\u001b[0m         \u001b[0mdoc\u001b[0m \u001b[0;34m=\u001b[0m \u001b[0maccent_function\u001b[0m\u001b[0;34m(\u001b[0m\u001b[0mdoc\u001b[0m\u001b[0;34m)\u001b[0m\u001b[0;34m\u001b[0m\u001b[0m\n",
      "\u001b[0;31mAttributeError\u001b[0m: 'list' object has no attribute 'lower'"
     ]
    }
   ],
   "source": [
    "from sklearn.feature_extraction.text import TfidfVectorizer\n",
    "vectorizer = TfidfVectorizer()\n",
    "X = vectorizer.fit(docs_)"
   ]
  },
  {
   "cell_type": "code",
   "execution_count": null,
   "metadata": {},
   "outputs": [],
   "source": [
    "docs"
   ]
  },
  {
   "cell_type": "code",
   "execution_count": 29,
   "metadata": {},
   "outputs": [
    {
     "data": {
      "text/plain": [
       "32540"
      ]
     },
     "execution_count": 29,
     "metadata": {},
     "output_type": "execute_result"
    }
   ],
   "source": [
    "len(X.get_feature_names())"
   ]
  },
  {
   "cell_type": "code",
   "execution_count": 30,
   "metadata": {},
   "outputs": [],
   "source": [
    "build_tfidf(att_agg_reviews.values(), 'reviews_tfidf')"
   ]
  },
  {
   "cell_type": "code",
   "execution_count": 13,
   "metadata": {},
   "outputs": [],
   "source": [
    "tfidf = load_tfidf('reviews_tfidf')"
   ]
  },
  {
   "cell_type": "code",
   "execution_count": 14,
   "metadata": {},
   "outputs": [
    {
     "ename": "ValueError",
     "evalue": "too many values to unpack (expected 2)",
     "output_type": "error",
     "traceback": [
      "\u001b[0;31m---------------------------------------------------------------------------\u001b[0m",
      "\u001b[0;31mValueError\u001b[0m                                Traceback (most recent call last)",
      "\u001b[0;32m<ipython-input-14-811a063e791a>\u001b[0m in \u001b[0;36m<module>\u001b[0;34m\u001b[0m\n\u001b[0;32m----> 1\u001b[0;31m \u001b[0magg_reviews_embs\u001b[0m \u001b[0;34m=\u001b[0m \u001b[0mget_embs\u001b[0m\u001b[0;34m(\u001b[0m\u001b[0mtfidf\u001b[0m\u001b[0;34m,\u001b[0m \u001b[0matt_agg_reviews\u001b[0m\u001b[0;34m.\u001b[0m\u001b[0mvalues\u001b[0m\u001b[0;34m(\u001b[0m\u001b[0;34m)\u001b[0m\u001b[0;34m)\u001b[0m\u001b[0;34m\u001b[0m\u001b[0m\n\u001b[0m",
      "\u001b[0;32m<ipython-input-11-ceda3b99b91a>\u001b[0m in \u001b[0;36mget_embs\u001b[0;34m(model_tfidf, docs)\u001b[0m\n\u001b[1;32m     28\u001b[0m     \u001b[0;31m# http://dsgeek.com/2018/02/19/tfidf_vectors.html\u001b[0m\u001b[0;34m\u001b[0m\u001b[0;34m\u001b[0m\u001b[0m\n\u001b[1;32m     29\u001b[0m     \u001b[0mdocs\u001b[0m \u001b[0;34m=\u001b[0m \u001b[0;34m[\u001b[0m\u001b[0mnlp_doc\u001b[0m\u001b[0;34m(\u001b[0m\u001b[0md\u001b[0m\u001b[0;34m)\u001b[0m \u001b[0;32mfor\u001b[0m \u001b[0md\u001b[0m \u001b[0;32min\u001b[0m \u001b[0mdocs\u001b[0m\u001b[0;34m]\u001b[0m\u001b[0;34m\u001b[0m\u001b[0m\n\u001b[0;32m---> 30\u001b[0;31m     \u001b[0mdocs_tfidf\u001b[0m  \u001b[0;34m=\u001b[0m \u001b[0mmodel_tfidf\u001b[0m\u001b[0;34m[\u001b[0m\u001b[0mdocs\u001b[0m\u001b[0;34m]\u001b[0m\u001b[0;34m\u001b[0m\u001b[0m\n\u001b[0m\u001b[1;32m     31\u001b[0m     \u001b[0mdocs_vecs\u001b[0m   \u001b[0;34m=\u001b[0m \u001b[0mnp\u001b[0m\u001b[0;34m.\u001b[0m\u001b[0mvstack\u001b[0m\u001b[0;34m(\u001b[0m\u001b[0;34m[\u001b[0m\u001b[0msparse2full\u001b[0m\u001b[0;34m(\u001b[0m\u001b[0mc\u001b[0m\u001b[0;34m,\u001b[0m \u001b[0mlen\u001b[0m\u001b[0;34m(\u001b[0m\u001b[0mdocs\u001b[0m\u001b[0;34m)\u001b[0m\u001b[0;34m)\u001b[0m \u001b[0;32mfor\u001b[0m \u001b[0mc\u001b[0m \u001b[0;32min\u001b[0m \u001b[0mdocs_tfidf\u001b[0m\u001b[0;34m]\u001b[0m\u001b[0;34m)\u001b[0m\u001b[0;34m\u001b[0m\u001b[0m\n\u001b[1;32m     32\u001b[0m \u001b[0;34m\u001b[0m\u001b[0m\n",
      "\u001b[0;32m~/Library/Caches/pypoetry/virtualenvs/travel-data-yzWrfArT-py3.6/lib/python3.6/site-packages/gensim/models/tfidfmodel.py\u001b[0m in \u001b[0;36m__getitem__\u001b[0;34m(self, bow, eps)\u001b[0m\n\u001b[1;32m    503\u001b[0m \u001b[0;34m\u001b[0m\u001b[0m\n\u001b[1;32m    504\u001b[0m         \u001b[0mtermid_array\u001b[0m\u001b[0;34m,\u001b[0m \u001b[0mtf_array\u001b[0m \u001b[0;34m=\u001b[0m \u001b[0;34m[\u001b[0m\u001b[0;34m]\u001b[0m\u001b[0;34m,\u001b[0m \u001b[0;34m[\u001b[0m\u001b[0;34m]\u001b[0m\u001b[0;34m\u001b[0m\u001b[0m\n\u001b[0;32m--> 505\u001b[0;31m         \u001b[0;32mfor\u001b[0m \u001b[0mtermid\u001b[0m\u001b[0;34m,\u001b[0m \u001b[0mtf\u001b[0m \u001b[0;32min\u001b[0m \u001b[0mbow\u001b[0m\u001b[0;34m:\u001b[0m\u001b[0;34m\u001b[0m\u001b[0m\n\u001b[0m\u001b[1;32m    506\u001b[0m             \u001b[0mtermid_array\u001b[0m\u001b[0;34m.\u001b[0m\u001b[0mappend\u001b[0m\u001b[0;34m(\u001b[0m\u001b[0mtermid\u001b[0m\u001b[0;34m)\u001b[0m\u001b[0;34m\u001b[0m\u001b[0m\n\u001b[1;32m    507\u001b[0m             \u001b[0mtf_array\u001b[0m\u001b[0;34m.\u001b[0m\u001b[0mappend\u001b[0m\u001b[0;34m(\u001b[0m\u001b[0mtf\u001b[0m\u001b[0;34m)\u001b[0m\u001b[0;34m\u001b[0m\u001b[0m\n",
      "\u001b[0;31mValueError\u001b[0m: too many values to unpack (expected 2)"
     ]
    }
   ],
   "source": [
    "agg_reviews_embs = get_embs(tfidf, att_agg_reviews.values())"
   ]
  },
  {
   "cell_type": "code",
   "execution_count": 23,
   "metadata": {},
   "outputs": [
    {
     "data": {
      "text/plain": [
       "1999"
      ]
     },
     "execution_count": 23,
     "metadata": {},
     "output_type": "execute_result"
    }
   ],
   "source": [
    "tfidf.num_docs"
   ]
  },
  {
   "cell_type": "code",
   "execution_count": 20,
   "metadata": {},
   "outputs": [
    {
     "ename": "NameError",
     "evalue": "name 'model_tfidf' is not defined",
     "output_type": "error",
     "traceback": [
      "\u001b[0;31m---------------------------------------------------------------------------\u001b[0m",
      "\u001b[0;31mNameError\u001b[0m                                 Traceback (most recent call last)",
      "\u001b[0;32m<ipython-input-20-a084fe3a1103>\u001b[0m in \u001b[0;36m<module>\u001b[0;34m\u001b[0m\n\u001b[1;32m      1\u001b[0m \u001b[0mdocs\u001b[0m \u001b[0;34m=\u001b[0m \u001b[0mlist\u001b[0m\u001b[0;34m(\u001b[0m\u001b[0matt_agg_reviews\u001b[0m\u001b[0;34m.\u001b[0m\u001b[0mvalues\u001b[0m\u001b[0;34m(\u001b[0m\u001b[0;34m)\u001b[0m\u001b[0;34m)\u001b[0m\u001b[0;34m[\u001b[0m\u001b[0;34m:\u001b[0m\u001b[0;36m10\u001b[0m\u001b[0;34m]\u001b[0m\u001b[0;34m\u001b[0m\u001b[0m\n\u001b[1;32m      2\u001b[0m \u001b[0mdocs\u001b[0m \u001b[0;34m=\u001b[0m \u001b[0;34m[\u001b[0m\u001b[0mnlp_doc\u001b[0m\u001b[0;34m(\u001b[0m\u001b[0md\u001b[0m\u001b[0;34m)\u001b[0m \u001b[0;32mfor\u001b[0m \u001b[0md\u001b[0m \u001b[0;32min\u001b[0m \u001b[0mdocs\u001b[0m\u001b[0;34m]\u001b[0m\u001b[0;34m\u001b[0m\u001b[0m\n\u001b[0;32m----> 3\u001b[0;31m \u001b[0mdocs_tfidf\u001b[0m  \u001b[0;34m=\u001b[0m \u001b[0mmodel_tfidf\u001b[0m\u001b[0;34m[\u001b[0m\u001b[0mdocs\u001b[0m\u001b[0;34m]\u001b[0m\u001b[0;34m\u001b[0m\u001b[0m\n\u001b[0m\u001b[1;32m      4\u001b[0m \u001b[0mnp\u001b[0m\u001b[0;34m.\u001b[0m\u001b[0mvstack\u001b[0m\u001b[0;34m(\u001b[0m\u001b[0;34m[\u001b[0m\u001b[0msparse2full\u001b[0m\u001b[0;34m(\u001b[0m\u001b[0mc\u001b[0m\u001b[0;34m,\u001b[0m \u001b[0mlen\u001b[0m\u001b[0;34m(\u001b[0m\u001b[0mdocs\u001b[0m\u001b[0;34m)\u001b[0m\u001b[0;34m)\u001b[0m \u001b[0;32mfor\u001b[0m \u001b[0mc\u001b[0m \u001b[0;32min\u001b[0m \u001b[0mdocs_tfidf\u001b[0m\u001b[0;34m]\u001b[0m\u001b[0;34m)\u001b[0m\u001b[0;34m\u001b[0m\u001b[0m\n\u001b[1;32m      5\u001b[0m \u001b[0;34m\u001b[0m\u001b[0m\n",
      "\u001b[0;31mNameError\u001b[0m: name 'model_tfidf' is not defined"
     ]
    }
   ],
   "source": [
    "docs = list(att_agg_reviews.values())[:10]\n",
    "docs = [nlp_doc(d) for d in docs]\n",
    "docs_tfidf  = model_tfidf[docs]\n",
    "np.vstack([sparse2full(c, len(docs)) for c in docs_tfidf])\n",
    "\n"
   ]
  },
  {
   "cell_type": "code",
   "execution_count": 206,
   "metadata": {},
   "outputs": [
    {
     "data": {
      "text/plain": [
       "(1999, 300)"
      ]
     },
     "execution_count": 206,
     "metadata": {},
     "output_type": "execute_result"
    }
   ],
   "source": [
    "agg_reviews_embs.shape"
   ]
  },
  {
   "cell_type": "code",
   "execution_count": 195,
   "metadata": {},
   "outputs": [],
   "source": [
    "np.savetxt('attractions-agg-reviews-embs.txt', agg_reviews_embs, delimiter='\\t')"
   ]
  },
  {
   "cell_type": "code",
   "execution_count": 196,
   "metadata": {},
   "outputs": [],
   "source": [
    "with open(\"attractions-agg.txt\", \"w\") as outf:\n",
    "    outf.write('\\n'.join([k.replace('\\n',' ') for k in att_agg_reviews.keys()]))"
   ]
  },
  {
   "cell_type": "markdown",
   "metadata": {},
   "source": [
    "## Elastic export "
   ]
  },
  {
   "cell_type": "code",
   "execution_count": 204,
   "metadata": {},
   "outputs": [],
   "source": [
    "export_df = data_df.drop(columns=['reviews']).drop_duplicates('name')"
   ]
  },
  {
   "cell_type": "code",
   "execution_count": 333,
   "metadata": {},
   "outputs": [
    {
     "data": {
      "text/plain": [
       "300"
      ]
     },
     "execution_count": 333,
     "metadata": {},
     "output_type": "execute_result"
    }
   ],
   "source": [
    "emb_dict = {k:v for k,v in zip(att_agg_reviews.keys(), agg_reviews_embs.tolist())}\n",
    "len((emb_dict['Jericho Beach'])"
   ]
  },
  {
   "cell_type": "code",
   "execution_count": 384,
   "metadata": {},
   "outputs": [],
   "source": [
    "default = np.ones((300,), dtype='float32').tolist()\n",
    "export_df['embedding'] = export_df.apply(lambda x: emb_dict[x['name']] if x['name'] in emb_dict and all(e != 0 for e in emb_dict[x['name']]) else default, axis=1)"
   ]
  },
  {
   "cell_type": "code",
   "execution_count": 385,
   "metadata": {},
   "outputs": [],
   "source": [
    "assert export_df[export_df.name == 'Jericho Beach'].embedding.values[0] == emb_dict['Jericho Beach']"
   ]
  },
  {
   "cell_type": "code",
   "execution_count": 386,
   "metadata": {},
   "outputs": [
    {
     "name": "stdout",
     "output_type": "stream",
     "text": [
      "<class 'pandas.core.frame.DataFrame'>\n",
      "Int64Index: 14924 entries, 0 to 14923\n",
      "Data columns (total 74 columns):\n",
      " #   Column                                     Non-Null Count  Dtype  \n",
      "---  ------                                     --------------  -----  \n",
      " 0   id                                         12960 non-null  float64\n",
      " 1   type                                       12960 non-null  object \n",
      " 2   name                                       14924 non-null  object \n",
      " 3   awards                                     14924 non-null  object \n",
      " 4   rankingPosition                            1182 non-null   float64\n",
      " 5   priceLevel                                 12960 non-null  object \n",
      " 6   category                                   14924 non-null  object \n",
      " 7   rating                                     13348 non-null  float64\n",
      " 8   hotelClass                                 1210 non-null   float64\n",
      " 9   phone                                      13730 non-null  object \n",
      " 10  address                                    14924 non-null  object \n",
      " 11  email                                      6001 non-null   object \n",
      " 12  amenities                                  1210 non-null   object \n",
      " 13  prices                                     1210 non-null   object \n",
      " 14  latitude                                   14654 non-null  float64\n",
      " 15  longitude                                  14654 non-null  float64\n",
      " 16  webUrl                                     12960 non-null  object \n",
      " 17  website                                    11818 non-null  object \n",
      " 18  rankingString                              1182 non-null   object \n",
      " 19  numberOfReviews                            12960 non-null  float64\n",
      " 20  rankingDenominator                         1182 non-null   float64\n",
      " 21  hotelClassAttribution                      6 non-null      object \n",
      " 22  isClosed                                   11750 non-null  float64\n",
      " 23  isLongClosed                               11750 non-null  float64\n",
      " 24  cuisine                                    11750 non-null  object \n",
      " 25  hours                                      12512 non-null  object \n",
      " 26  location_id                                1964 non-null   float64\n",
      " 27  num_reviews                                1964 non-null   float64\n",
      " 28  timezone                                   1964 non-null   object \n",
      " 29  location_string                            1964 non-null   object \n",
      " 30  photo                                      1612 non-null   object \n",
      " 31  api_detail_url                             1964 non-null   object \n",
      " 32  location_subtype                           1964 non-null   object \n",
      " 33  doubleclick_zone                           1964 non-null   object \n",
      " 34  preferred_map_engine                       1964 non-null   object \n",
      " 35  raw_ranking                                1643 non-null   float64\n",
      " 36  ranking_geo                                1643 non-null   object \n",
      " 37  ranking_geo_id                             1643 non-null   float64\n",
      " 38  ranking_position                           1643 non-null   float64\n",
      " 39  ranking_denominator                        1643 non-null   float64\n",
      " 40  ranking_category                           1643 non-null   object \n",
      " 41  ranking_subcategory                        1643 non-null   object \n",
      " 42  subcategory_ranking                        1643 non-null   object \n",
      " 43  ranking                                    1643 non-null   object \n",
      " 44  distance                                   0 non-null      float64\n",
      " 45  distance_string                            0 non-null      float64\n",
      " 46  bearing                                    0 non-null      float64\n",
      " 47  is_closed                                  1964 non-null   float64\n",
      " 48  is_long_closed                             1964 non-null   float64\n",
      " 49  description                                1964 non-null   object \n",
      " 50  web_url                                    1964 non-null   object \n",
      " 51  write_review                               1964 non-null   object \n",
      " 52  ancestors                                  1964 non-null   object \n",
      " 53  subcategory                                1964 non-null   object \n",
      " 54  parent_display_name                        1964 non-null   object \n",
      " 55  is_jfy_enabled                             1964 non-null   float64\n",
      " 56  nearest_metro_station                      1964 non-null   object \n",
      " 57  address_obj                                1964 non-null   object \n",
      " 58  is_candidate_for_contact_info_suppression  1964 non-null   float64\n",
      " 59  subtype                                    1964 non-null   object \n",
      " 60  tags                                       1964 non-null   object \n",
      " 61  shopping_type                              1964 non-null   object \n",
      " 62  open_now_text                              762 non-null    object \n",
      " 63  booking                                    395 non-null    object \n",
      " 64  offer_group                                395 non-null    object \n",
      " 65  animal_welfare_tag                         123 non-null    object \n",
      " 66  fee                                        41 non-null     object \n",
      " 67  neighborhood_info                          1001 non-null   object \n",
      " 68  waypoint_info                              3 non-null      object \n",
      " 69  ta_message                                 1 non-null      object \n",
      " 70  machine_translated                         81 non-null     float64\n",
      " 71  translation_vendor                         6 non-null      object \n",
      " 72  embedding                                  14924 non-null  object \n",
      " 73  location                                   14924 non-null  object \n",
      "dtypes: float64(24), object(50)\n",
      "memory usage: 9.2+ MB\n"
     ]
    }
   ],
   "source": [
    "export_df.info()"
   ]
  },
  {
   "cell_type": "code",
   "execution_count": 287,
   "metadata": {},
   "outputs": [],
   "source": [
    "export_df['location'] = export_df.apply(lambda row: f'{row.latitude if \"latitude\" else row or 0},{row.longitude if \"longitude\" in row else 0}', axis=1)"
   ]
  },
  {
   "cell_type": "code",
   "execution_count": 387,
   "metadata": {},
   "outputs": [],
   "source": [
    "export_df.to_json('data/elastic/bc-van-emb.json', orient='records', lines=True)"
   ]
  },
  {
   "cell_type": "code",
   "execution_count": null,
   "metadata": {},
   "outputs": [],
   "source": [
    "  \"embedding\": {\n",
    "    \"type\": \"dense_vector\",\n",
    "    \"dims\": 300\n",
    "  },\n",
    "     \"location\": {\n",
    "        \"type\": \"geo_point\"\n",
    "      }"
   ]
  },
  {
   "cell_type": "code",
   "execution_count": 244,
   "metadata": {},
   "outputs": [
    {
     "data": {
      "text/plain": [
       "300"
      ]
     },
     "execution_count": 244,
     "metadata": {},
     "output_type": "execute_result"
    }
   ],
   "source": [
    "test_emb = export_df[export_df.name == 'Jericho Beach'].embedding.values[0]\n",
    "len(test_emb)"
   ]
  },
  {
   "cell_type": "code",
   "execution_count": 42,
   "metadata": {},
   "outputs": [],
   "source": [
    "from elasticsearch import Elasticsearch\n",
    "es = Elasticsearch()\n"
   ]
  },
  {
   "cell_type": "code",
   "execution_count": 45,
   "metadata": {},
   "outputs": [
    {
     "name": "stdout",
     "output_type": "stream",
     "text": [
      "Got 0 Hits:\n"
     ]
    }
   ],
   "source": [
    "# query = {\n",
    "#   \"size\": 10,\n",
    "#   \"query\": {\n",
    "#     \"script_score\": {\n",
    "#       \"query\": {\n",
    "#           \"bool\": {\n",
    "#               \"must\": [\n",
    "#                 {\n",
    "#                   \"match\": {\n",
    "#                     \"category\": \"attraction\"\n",
    "#                   }\n",
    "#                 }\n",
    "#               ]\n",
    "#             }\n",
    "#       },\n",
    "#       \"script\": {\n",
    "#         \"source\": \"cosineSimilarity(params.queryVector, 'embedding')+1.0\",\n",
    "#         \"params\": {\n",
    "#           \"queryVector\": test_emb\n",
    "#         }\n",
    "#       }\n",
    "#     }\n",
    "#   }\n",
    "# }\n",
    "\n",
    "# query = {\n",
    "#   \"query\": {\n",
    "#     \"bool\": {\n",
    "#       \"must\": {\n",
    "#         \"match\": {\n",
    "#           \"category\": \"attraction\"\n",
    "#         }\n",
    "#       },\n",
    "#       \"should\": {\n",
    "#         \"distance_feature\": {\n",
    "#           \"field\": \"location\",\n",
    "#           \"pivot\": \"1000m\",\n",
    "#           \"origin\": { \n",
    "#             \"lat\": 49.125433, \n",
    "#             \"lon\": -123.194445\n",
    "#           }\n",
    "#         }\n",
    "#       }\n",
    "#     }\n",
    "#   }\n",
    "# }\n",
    "\n",
    "query = {\n",
    "  \"query\": {\n",
    "        \"term\": {\n",
    "            \"_id\": {\n",
    "                \"value\": \"inusJHIBLQnqvrvrsAV_\"\n",
    "            }\n",
    "        }\n",
    "      \n",
    "}\n",
    "}\n",
    "\n",
    "# query = {\n",
    "#   \"query\": {\n",
    "#     \"bool\": {\n",
    "#       \"must\": {\n",
    "#         \"match\": {\n",
    "#           \"category\": \"attraction\"\n",
    "#         }\n",
    "#       },\n",
    "#       \"should\": {\n",
    "#         \"distance_feature\": {\n",
    "#           \"field\": \"location\",\n",
    "#           \"pivot\": \"1000m\",\n",
    "#           \"origin\": {\n",
    "#             \"lat\": res['hits']['hits'][0]['_source']['latitude'],\n",
    "#             \"lon\": res['hits']['hits'][0]['_source']['longitude']\n",
    "#           }\n",
    "#         }\n",
    "#       }\n",
    "#     }\n",
    "#   }\n",
    "# }\n",
    "\n",
    "res = es.search(index=\"ta-embs\", body=query)\n",
    "\n",
    "print(\"Got %d Hits:\" % res['hits']['total']['value'])\n",
    "for hit in res['hits']['hits']:\n",
    "    print(\"%(name)s \" % hit[\"_source\"])"
   ]
  },
  {
   "cell_type": "code",
   "execution_count": 422,
   "metadata": {},
   "outputs": [
    {
     "data": {
      "text/plain": [
       "{'id': None,\n",
       " 'type': None,\n",
       " 'name': 'Jericho Beach',\n",
       " 'awards': [{'award_type': 'CERTIFICATE_OF_EXCELLENCE',\n",
       "   'year': '2019',\n",
       "   'images': {'small': 'https://www.tripadvisor.com/img/cdsi/img2/awards/CERTIFICATE_OF_EXCELLENCE_small-0-5.jpg',\n",
       "    'large': 'https://www.tripadvisor.com/img/cdsi/img2/awards/CERTIFICATE_OF_EXCELLENCE_2019_en_US_large-0-5.jpg'},\n",
       "   'categories': [],\n",
       "   'display_name': 'Certificate of Excellence 2019'},\n",
       "  {'award_type': 'CERTIFICATE_OF_EXCELLENCE',\n",
       "   'year': '2018',\n",
       "   'images': {'small': 'https://www.tripadvisor.com/img/cdsi/img2/awards/CERTIFICATE_OF_EXCELLENCE_small-0-5.jpg',\n",
       "    'large': 'https://www.tripadvisor.com/img/cdsi/img2/awards/CERTIFICATE_OF_EXCELLENCE_2018_en_US_large-0-5.jpg'},\n",
       "   'categories': [],\n",
       "   'display_name': 'Certificate of Excellence 2018'},\n",
       "  {'award_type': 'CERTIFICATE_OF_EXCELLENCE',\n",
       "   'year': '2017',\n",
       "   'images': {'small': 'https://www.tripadvisor.com/img/cdsi/img2/awards/CERTIFICATE_OF_EXCELLENCE_small-0-5.jpg',\n",
       "    'large': 'https://www.tripadvisor.com/img/cdsi/img2/awards/CERTIFICATE_OF_EXCELLENCE_2017_en_US_large-0-5.jpg'},\n",
       "   'categories': [],\n",
       "   'display_name': 'Certificate of Excellence 2017'},\n",
       "  {'award_type': 'CERTIFICATE_OF_EXCELLENCE',\n",
       "   'year': '2016',\n",
       "   'images': {'small': 'https://www.tripadvisor.com/img/cdsi/img2/awards/CERTIFICATE_OF_EXCELLENCE_small-0-5.jpg',\n",
       "    'large': 'https://www.tripadvisor.com/img/cdsi/img2/awards/CERTIFICATE_OF_EXCELLENCE_2016_en_US_large-0-5.jpg'},\n",
       "   'categories': [],\n",
       "   'display_name': 'Certificate of Excellence 2016'},\n",
       "  {'award_type': 'CERTIFICATE_OF_EXCELLENCE',\n",
       "   'year': '2015',\n",
       "   'images': {'small': 'https://www.tripadvisor.com/img/cdsi/img2/awards/CERTIFICATE_OF_EXCELLENCE_small-0-5.jpg',\n",
       "    'large': 'https://www.tripadvisor.com/img/cdsi/img2/awards/CERTIFICATE_OF_EXCELLENCE_2015_en_US_large-0-5.jpg'},\n",
       "   'categories': [],\n",
       "   'display_name': 'Certificate of Excellence 2015'}],\n",
       " 'rankingPosition': None,\n",
       " 'priceLevel': None,\n",
       " 'category': 'attraction',\n",
       " 'rating': 4.5,\n",
       " 'hotelClass': None,\n",
       " 'phone': None,\n",
       " 'address': '1515 Discovery St, Vancouver, British Columbia V6R 4K5 Canada',\n",
       " 'email': None,\n",
       " 'amenities': None,\n",
       " 'prices': None,\n",
       " 'latitude': 49.273098,\n",
       " 'longitude': -123.20285,\n",
       " 'webUrl': None,\n",
       " 'website': 'http://vancouver.ca/parks-recreation-culture/jericho-beach.aspx',\n",
       " 'rankingString': None,\n",
       " 'numberOfReviews': None,\n",
       " 'rankingDenominator': None,\n",
       " 'hotelClassAttribution': None,\n",
       " 'isClosed': None,\n",
       " 'isLongClosed': None,\n",
       " 'cuisine': None,\n",
       " 'hours': None,\n",
       " 'location_id': 556534.0,\n",
       " 'num_reviews': 358.0,\n",
       " 'timezone': 'America/Vancouver',\n",
       " 'location_string': 'Vancouver, British Columbia',\n",
       " 'photo': {'images': {'small': {'width': '150',\n",
       "    'url': 'https://media-cdn.tripadvisor.com/media/photo-l/01/45/cc/b8/jericho-beach.jpg',\n",
       "    'height': '150'},\n",
       "   'thumbnail': {'width': '50',\n",
       "    'url': 'https://media-cdn.tripadvisor.com/media/photo-t/01/45/cc/b8/jericho-beach.jpg',\n",
       "    'height': '50'},\n",
       "   'original': {'width': '452',\n",
       "    'url': 'https://media-cdn.tripadvisor.com/media/photo-o/01/45/cc/b8/jericho-beach.jpg',\n",
       "    'height': '603'},\n",
       "   'large': {'width': '452',\n",
       "    'url': 'https://media-cdn.tripadvisor.com/media/photo-o/01/45/cc/b8/jericho-beach.jpg',\n",
       "    'height': '603'},\n",
       "   'medium': {'width': '337',\n",
       "    'url': 'https://media-cdn.tripadvisor.com/media/photo-s/01/45/cc/b8/jericho-beach.jpg',\n",
       "    'height': '450'}},\n",
       "  'is_blessed': True,\n",
       "  'uploaded_date': '2009-09-11T06:28:31-0400',\n",
       "  'caption': '',\n",
       "  'id': '21351608',\n",
       "  'helpful_votes': '5',\n",
       "  'published_date': '2009-09-11T06:28:30-0400',\n",
       "  'user': {'user_id': None, 'member_id': '0', 'type': 'user'}},\n",
       " 'api_detail_url': 'https://api.tripadvisor.com/api/internal/1.14/location/556534',\n",
       " 'location_subtype': 'none',\n",
       " 'doubleclick_zone': 'na.can.bc.vancouver',\n",
       " 'preferred_map_engine': 'default',\n",
       " 'raw_ranking': 4.066868782,\n",
       " 'ranking_geo': 'Vancouver',\n",
       " 'ranking_geo_id': 154943.0,\n",
       " 'ranking_position': 22.0,\n",
       " 'ranking_denominator': 356.0,\n",
       " 'ranking_category': 'attraction',\n",
       " 'ranking_subcategory': '#22 of 356 things to do in Vancouver',\n",
       " 'subcategory_ranking': '#22 of 356 things to do in Vancouver',\n",
       " 'ranking': '#22 of 356 things to do in Vancouver',\n",
       " 'distance': None,\n",
       " 'distance_string': None,\n",
       " 'bearing': None,\n",
       " 'is_closed': 0.0,\n",
       " 'is_long_closed': 0.0,\n",
       " 'description': '',\n",
       " 'web_url': 'https://www.tripadvisor.com/Attraction_Review-g154943-d556534-Reviews-Jericho_Beach-Vancouver_British_Columbia.html',\n",
       " 'write_review': 'https://www.tripadvisor.com/UserReview-g154943-d556534-Jericho_Beach-Vancouver_British_Columbia.html',\n",
       " 'ancestors': [{'subcategory': [{'key': 'city', 'name': 'City'}],\n",
       "   'name': 'Vancouver',\n",
       "   'abbrv': None,\n",
       "   'location_id': '154943'},\n",
       "  {'subcategory': [{'key': 'province', 'name': 'Province'}],\n",
       "   'name': 'British Columbia',\n",
       "   'abbrv': None,\n",
       "   'location_id': '154922'},\n",
       "  {'subcategory': [{'key': 'country', 'name': 'Country'}],\n",
       "   'name': 'Canada',\n",
       "   'abbrv': None,\n",
       "   'location_id': '153339'}],\n",
       " 'subcategory': [{'key': '57', 'name': 'Nature & Parks'},\n",
       "  {'key': '61', 'name': 'Outdoor Activities'}],\n",
       " 'parent_display_name': 'Vancouver',\n",
       " 'is_jfy_enabled': 0.0,\n",
       " 'nearest_metro_station': [],\n",
       " 'address_obj': {'street1': '1515 Discovery St',\n",
       "  'street2': '',\n",
       "  'city': 'Vancouver',\n",
       "  'state': None,\n",
       "  'country': 'Canada',\n",
       "  'postalcode': 'V6R 4K5'},\n",
       " 'is_candidate_for_contact_info_suppression': 0.0,\n",
       " 'subtype': [{'key': '52', 'name': 'Beaches'}],\n",
       " 'tags': {},\n",
       " 'shopping_type': 'none',\n",
       " 'open_now_text': None,\n",
       " 'booking': {'provider': 'Viator',\n",
       "  'url': 'https://www.tripadvisor.com/Commerce?url=https%3A%2F%2Fwww.viator.com%2Ftours%2FVancouver%2FJericho-Explorer-Kayak-Tour%2Fd616-230886P1%3Feap%3Dtripadvisor-main-11383%26aid%3Dtripen1&partnerKey=1&urlKey=656382e2a39aad094&logme=true&uidparam=refid&attrc=true&Provider=Viator&area=TOP&slot=1&cnt=1&geo=556534&clt=TD&from=api&nt=true'},\n",
       " 'offer_group': {'lowest_price': '$0.37',\n",
       "  'offer_list': [{'url': 'https://www.tripadvisor.com/Commerce?url=https%3A%2F%2Fwww.viator.com%2Ftours%2FVancouver%2FJericho-Explorer-Kayak-Tour%2Fd616-230886P1%3Feap%3Dtripadvisor-main-11383%26aid%3Dtripen1&partnerKey=1&urlKey=656382e2a39aad094&logme=true&uidparam=refid&attrc=true&Provider=Viator&area=viator_multi&slot=1&cnt=1&geo=556534&clt=TD&from=api&nt=true',\n",
       "    'price': '$51.65',\n",
       "    'rounded_up_price': '$52',\n",
       "    'offer_type': '',\n",
       "    'title': 'Jericho Explorer Kayak Tour',\n",
       "    'product_code': '230886P1',\n",
       "    'partner': 'Viator',\n",
       "    'image_url': 'https://media.tacdn.com/media/attractions-splice-spp-360x240/0a/02/1c/c9.jpg',\n",
       "    'description': None,\n",
       "    'primary_category': 'Kayaking & Canoeing'},\n",
       "   {'url': 'https://www.tripadvisor.com/Commerce?url=https%3A%2F%2Fwww.viator.com%2Ftours%2FVancouver%2FVancouver-Supercar-City-Tour%2Fd616-7461P12%3Feap%3Dtripadvisor-main-11383%26aid%3Dtripen1&partnerKey=1&urlKey=8d3ecff92076c46b5&logme=true&uidparam=refid&attrc=true&Provider=Viator&area=viator_multi&slot=2&cnt=1&geo=556534&clt=TD&from=api&nt=true',\n",
       "    'price': '$191.77',\n",
       "    'rounded_up_price': '$192',\n",
       "    'offer_type': '',\n",
       "    'title': 'Vancouver Supercar City Tour',\n",
       "    'product_code': '7461P12',\n",
       "    'partner': 'Viator',\n",
       "    'image_url': 'https://media.tacdn.com/media/attractions-splice-spp-360x240/0a/96/8e/d3.jpg',\n",
       "    'description': None,\n",
       "    'primary_category': 'Ports of Call Tours'},\n",
       "   {'url': 'https://www.tripadvisor.com/Commerce?url=https%3A%2F%2Fwww.viator.com%2Ftours%2FVancouver%2FTOP-5-BEACHES-TOUR-IN-VANCOUVER-PRIVATE%2Fd616-130654P2%3Feap%3Dtripadvisor-main-11383%26aid%3Dtripen1&partnerKey=1&urlKey=be495e7b4bf71dc70&logme=true&uidparam=refid&attrc=true&Provider=Viator&area=viator_multi&slot=3&cnt=1&geo=556534&clt=TD&from=api&nt=true',\n",
       "    'price': '$346.81',\n",
       "    'rounded_up_price': '$347',\n",
       "    'offer_type': '',\n",
       "    'title': ' Vancouver Top Beaches Tour - Private',\n",
       "    'product_code': '130654P2',\n",
       "    'partner': 'Viator',\n",
       "    'image_url': 'https://media.tacdn.com/media/attractions-splice-spp-360x240/0a/3c/c5/3d.jpg',\n",
       "    'description': None,\n",
       "    'primary_category': 'Attraction Tickets'}],\n",
       "  'has_see_all_url': True,\n",
       "  'is_eligible_for_ap_list': True},\n",
       " 'animal_welfare_tag': None,\n",
       " 'fee': None,\n",
       " 'neighborhood_info': [{'location_id': '8623708', 'name': 'West Point Grey'}],\n",
       " 'waypoint_info': None,\n",
       " 'ta_message': None,\n",
       " 'machine_translated': None,\n",
       " 'translation_vendor': None,\n",
       " 'embedding': [1.9923013449,\n",
       "  0.4802050292,\n",
       "  0.0954136103,\n",
       "  -1.203204751,\n",
       "  2.1276772022,\n",
       "  -0.2900929153,\n",
       "  -0.5490968227,\n",
       "  0.8358440399,\n",
       "  -0.6700271368,\n",
       "  16.1264381409,\n",
       "  -1.5059102774,\n",
       "  -1.3952847719,\n",
       "  0.260330677,\n",
       "  0.7192015648,\n",
       "  -1.7173107862,\n",
       "  0.3745352328,\n",
       "  -0.1830440462,\n",
       "  9.6595859528,\n",
       "  0.1952965409,\n",
       "  -0.5808906555,\n",
       "  0.0735396445,\n",
       "  0.9709480405,\n",
       "  -0.5658754706,\n",
       "  0.3098953962,\n",
       "  -0.5733898878,\n",
       "  -0.246659562,\n",
       "  0.1647851467,\n",
       "  -0.9467863441,\n",
       "  -0.0130020157,\n",
       "  0.9062675834,\n",
       "  0.1388439238,\n",
       "  -0.5526388288,\n",
       "  -1.2847497463,\n",
       "  -0.6014289856,\n",
       "  -0.1548934132,\n",
       "  -0.7115986943,\n",
       "  1.5894236565,\n",
       "  -0.3854807317,\n",
       "  -0.7950929403,\n",
       "  0.3432580829,\n",
       "  -0.1907357424,\n",
       "  -0.3569237888,\n",
       "  0.1692222655,\n",
       "  -0.0214454904,\n",
       "  1.095408082,\n",
       "  0.9058014154,\n",
       "  -0.6412757039,\n",
       "  -0.2488691211,\n",
       "  0.0106862783,\n",
       "  -0.5020478368,\n",
       "  -0.4087282121,\n",
       "  -0.1892698407,\n",
       "  0.7597768307,\n",
       "  1.4369812012,\n",
       "  0.0638405234,\n",
       "  0.011150619,\n",
       "  -1.0181655884,\n",
       "  0.0051900242,\n",
       "  0.4164672792,\n",
       "  1.4850077629,\n",
       "  -0.7940947413,\n",
       "  -0.1200819463,\n",
       "  0.2264880538,\n",
       "  1.218106389,\n",
       "  -1.0072427988,\n",
       "  -0.6581322551,\n",
       "  -0.5095083117,\n",
       "  1.2239211798,\n",
       "  -0.584199369,\n",
       "  0.8504284024,\n",
       "  -0.6698599458,\n",
       "  0.5466411114,\n",
       "  0.0035327915,\n",
       "  0.889549613,\n",
       "  1.2648471594,\n",
       "  -0.6713510156,\n",
       "  -0.9824695587,\n",
       "  0.6415348649,\n",
       "  -0.7890655994,\n",
       "  -1.389226079,\n",
       "  0.5234998465,\n",
       "  0.6098148227,\n",
       "  0.7950779796,\n",
       "  1.1915016174,\n",
       "  0.1387277842,\n",
       "  0.9485142231,\n",
       "  2.356887579,\n",
       "  4.2526669502,\n",
       "  0.8975954056,\n",
       "  0.1820448637,\n",
       "  -1.0027954578,\n",
       "  -0.1032789201,\n",
       "  -0.1237350479,\n",
       "  -0.7734526992,\n",
       "  0.3299556375,\n",
       "  -0.3168839216,\n",
       "  0.0113415495,\n",
       "  0.0967072025,\n",
       "  1.0457957983,\n",
       "  1.5401816368,\n",
       "  0.8345757127,\n",
       "  -0.3423182666,\n",
       "  -1.3818854094,\n",
       "  0.2064790726,\n",
       "  -0.2668364942,\n",
       "  -5.676589489,\n",
       "  0.8477401733,\n",
       "  -0.1351451427,\n",
       "  0.1899316609,\n",
       "  -1.2750855684,\n",
       "  1.8637310266,\n",
       "  -1.5534172058,\n",
       "  -0.2695938349,\n",
       "  0.6696612835,\n",
       "  0.7316191792,\n",
       "  -0.6040542722,\n",
       "  1.6787333488,\n",
       "  0.6534288526,\n",
       "  -1.0643550158,\n",
       "  0.3318671584,\n",
       "  0.0787399709,\n",
       "  -0.0592366122,\n",
       "  -0.8764885664,\n",
       "  -1.5277827978,\n",
       "  -0.502168715,\n",
       "  -0.5725778341,\n",
       "  -0.5329940319,\n",
       "  0.5534302592,\n",
       "  -0.2652030289,\n",
       "  -0.5805298686,\n",
       "  -0.2207994908,\n",
       "  -1.6376254559,\n",
       "  -0.0542992949,\n",
       "  -0.831638813,\n",
       "  0.6019108295,\n",
       "  -0.2003685534,\n",
       "  0.5139205456,\n",
       "  -1.0275638103,\n",
       "  1.7203347683,\n",
       "  -0.4689477682,\n",
       "  -12.9974775314,\n",
       "  0.5390130877,\n",
       "  1.2553633451,\n",
       "  0.2376373112,\n",
       "  0.871448338,\n",
       "  0.103596814,\n",
       "  0.5328043103,\n",
       "  0.3608039021,\n",
       "  0.6702592373,\n",
       "  -0.7748273015,\n",
       "  -0.4736440182,\n",
       "  -0.4160780013,\n",
       "  -0.6640861034,\n",
       "  0.1893290281,\n",
       "  -0.4639447033,\n",
       "  -0.502299428,\n",
       "  0.4017834365,\n",
       "  0.9076067209,\n",
       "  -0.2425792664,\n",
       "  -0.0706605166,\n",
       "  1.2213068008,\n",
       "  -0.7195277214,\n",
       "  -0.3421134353,\n",
       "  1.0373384953,\n",
       "  1.2711679935,\n",
       "  0.5108474493,\n",
       "  -0.8751594424,\n",
       "  0.3841671646,\n",
       "  1.1838035583,\n",
       "  0.6309506893,\n",
       "  0.5199033022,\n",
       "  1.296009779,\n",
       "  -1.1846246719,\n",
       "  -0.9231079817,\n",
       "  -0.8405151963,\n",
       "  -0.0215183944,\n",
       "  -0.1189185828,\n",
       "  -0.9031634331,\n",
       "  -0.1632534415,\n",
       "  0.7077429295,\n",
       "  -0.7911117673,\n",
       "  -0.6969040036,\n",
       "  -1.5570875406,\n",
       "  -0.5927414298,\n",
       "  1.2430630922,\n",
       "  -1.0035170317,\n",
       "  -0.1990389824,\n",
       "  -0.0536243133,\n",
       "  1.0327532291,\n",
       "  -0.2946088314,\n",
       "  0.2178476453,\n",
       "  0.1504022032,\n",
       "  -1.2888029814,\n",
       "  -0.7724847794,\n",
       "  -0.5481325984,\n",
       "  0.7016224861,\n",
       "  0.6373167038,\n",
       "  0.2458246052,\n",
       "  0.6442830563,\n",
       "  1.5830190182,\n",
       "  -1.3470079899,\n",
       "  0.764433682,\n",
       "  0.3423692286,\n",
       "  0.219526872,\n",
       "  0.9945281744,\n",
       "  0.0007672161,\n",
       "  1.0898221731,\n",
       "  -0.1116957515,\n",
       "  0.6436775923,\n",
       "  -0.9757497907,\n",
       "  -0.4518057704,\n",
       "  -0.2505387962,\n",
       "  0.3487460911,\n",
       "  -0.3822639883,\n",
       "  0.1727579385,\n",
       "  0.1219893098,\n",
       "  0.721229434,\n",
       "  -0.2084958255,\n",
       "  0.5286712646,\n",
       "  0.738483429,\n",
       "  0.2298742086,\n",
       "  -0.0951130539,\n",
       "  1.0198196173,\n",
       "  -0.2091510743,\n",
       "  -0.5523814559,\n",
       "  -1.8283890486,\n",
       "  -0.6742887497,\n",
       "  0.079309009,\n",
       "  -0.5241413713,\n",
       "  1.3545318842,\n",
       "  0.4853496552,\n",
       "  1.1896365881,\n",
       "  2.3852572441,\n",
       "  1.1686935425,\n",
       "  0.7735956907,\n",
       "  0.1718625128,\n",
       "  1.3112181425,\n",
       "  -1.0124983788,\n",
       "  -0.7320384979,\n",
       "  1.3123753071,\n",
       "  -1.1785417795,\n",
       "  -0.5444142818,\n",
       "  -0.9150932431,\n",
       "  -0.2896774113,\n",
       "  -0.8424624205,\n",
       "  1.2961702347,\n",
       "  -0.4480930865,\n",
       "  -0.4104529619,\n",
       "  -0.5425413847,\n",
       "  -0.6326293945,\n",
       "  -0.2429090589,\n",
       "  -0.7069578171,\n",
       "  1.3697333336,\n",
       "  -0.1673829406,\n",
       "  1.0191141367,\n",
       "  3.7723722458,\n",
       "  0.2823623121,\n",
       "  -1.2065043449,\n",
       "  -0.3076981306,\n",
       "  0.2877875566,\n",
       "  1.1336928606,\n",
       "  0.9822967052,\n",
       "  0.1654114574,\n",
       "  -0.3699962199,\n",
       "  1.419398427,\n",
       "  -1.6097267866,\n",
       "  -0.3645972311,\n",
       "  0.503493011,\n",
       "  -3.0800113678,\n",
       "  0.1098553762,\n",
       "  -3.9288208485,\n",
       "  -0.0009782668,\n",
       "  -0.6796713471,\n",
       "  -0.6361526251,\n",
       "  1.1526714563,\n",
       "  0.5137774944,\n",
       "  0.4085250795,\n",
       "  -0.7283077836,\n",
       "  -0.3668779433,\n",
       "  0.3869931102,\n",
       "  0.9829663634,\n",
       "  -2.0257878304,\n",
       "  -0.5806179047,\n",
       "  1.7801949978,\n",
       "  0.4750649333,\n",
       "  0.1110681891,\n",
       "  1.3501536846,\n",
       "  0.2537176311,\n",
       "  1.5957741737,\n",
       "  0.1612335742,\n",
       "  -0.8415670395,\n",
       "  -0.6734499931,\n",
       "  -0.7487981915,\n",
       "  -1.2673075199,\n",
       "  1.2907999754,\n",
       "  1.099222064,\n",
       "  0.5989035368,\n",
       "  -0.4540454149,\n",
       "  -0.2367064506,\n",
       "  0.1773098707],\n",
       " 'location': '49.273098,-123.20285'}"
      ]
     },
     "execution_count": 422,
     "metadata": {},
     "output_type": "execute_result"
    }
   ],
   "source": [
    "res['hits']['hits'][0]['_source']"
   ]
  },
  {
   "cell_type": "markdown",
   "metadata": {},
   "source": [
    "# Topics"
   ]
  },
  {
   "cell_type": "code",
   "execution_count": 12,
   "metadata": {},
   "outputs": [
    {
     "data": {
      "text/html": [
       "<table style=\"border: 2px solid white;\">\n",
       "<tr>\n",
       "<td style=\"vertical-align: top; border: 0px solid white\">\n",
       "<h3>Client</h3>\n",
       "<ul>\n",
       "  <li><b>Scheduler: </b>tcp://127.0.0.1:61738\n",
       "  <li><b>Dashboard: </b><a href='http://127.0.0.1:8787/status' target='_blank'>http://127.0.0.1:8787/status</a>\n",
       "</ul>\n",
       "</td>\n",
       "<td style=\"vertical-align: top; border: 0px solid white\">\n",
       "<h3>Cluster</h3>\n",
       "<ul>\n",
       "  <li><b>Workers: </b>4</li>\n",
       "  <li><b>Cores: </b>4</li>\n",
       "  <li><b>Memory: </b>17.18 GB</li>\n",
       "</ul>\n",
       "</td>\n",
       "</tr>\n",
       "</table>"
      ],
      "text/plain": [
       "<Client: scheduler='tcp://127.0.0.1:61738' processes=4 cores=4>"
      ]
     },
     "execution_count": 12,
     "metadata": {},
     "output_type": "execute_result"
    }
   ],
   "source": [
    "client = Client(n_workers=4, threads_per_worker=1)\n",
    "client"
   ]
  },
  {
   "cell_type": "code",
   "execution_count": 32,
   "metadata": {},
   "outputs": [],
   "source": [
    "def ner(texts):\n",
    "    nlp = spacy.load(\"en_core_web_sm\")\n",
    "    docs = [nlp(desc) for desc in texts]\n",
    "    return [[(e.text, e.label_) for e in doc.ents] for doc in docs ]\n",
    "partitions = math.ceil(len(reviews)/5000)\n",
    "with ProgressBar():\n",
    "    rev_db = db.from_sequence(reviews).repartition(partitions).map_partitions(ner).flatten().compute()\n"
   ]
  },
  {
   "cell_type": "code",
   "execution_count": 36,
   "metadata": {},
   "outputs": [],
   "source": [
    "with open('entities.json', 'w+') as f:\n",
    "    json.dump(rev_db, f)"
   ]
  },
  {
   "cell_type": "code",
   "execution_count": null,
   "metadata": {},
   "outputs": [],
   "source": []
  },
  {
   "cell_type": "code",
   "execution_count": 41,
   "metadata": {},
   "outputs": [
    {
     "data": {
      "text/plain": [
       "[('Vancouver', 13072),\n",
       " ('Victoria', 4620),\n",
       " ('Canada', 3964),\n",
       " ('Granville Island', 1912),\n",
       " ('Vancouver Island', 904),\n",
       " ('BC', 896),\n",
       " ('Kelowna', 896),\n",
       " ('British Columbia', 621),\n",
       " ('Nanaimo', 512),\n",
       " ('Okanagan', 508),\n",
       " ('Whistler', 468),\n",
       " ('Granville', 396),\n",
       " ('Seattle', 364),\n",
       " ('US', 352),\n",
       " ('Granville island', 304),\n",
       " ('Vernon', 300),\n",
       " ('Richmond', 292),\n",
       " ('UK', 268),\n",
       " ('Tofino', 257),\n",
       " ('Aquabus', 252),\n",
       " ('Penticton', 244),\n",
       " ('B.C.', 232),\n",
       " ('Kamloops', 212),\n",
       " ('vancouver', 212),\n",
       " ('China', 208),\n",
       " ('Calgary', 200),\n",
       " ('Alaska', 184),\n",
       " ('Australia', 180),\n",
       " ('Washington', 176),\n",
       " ('Port Angeles', 172),\n",
       " ('Vail', 164),\n",
       " ('Gastown', 144),\n",
       " ('Golden', 140),\n",
       " ('Peachland', 132),\n",
       " ('Parksville', 132),\n",
       " ('Alberta', 128),\n",
       " ('Osoyoos', 128),\n",
       " ('San Francisco', 120),\n",
       " ('Ucluelet', 116),\n",
       " ('Barkerville', 116),\n",
       " ('Georgia', 108),\n",
       " ('Blackcomb', 108),\n",
       " ('Salt Spring Island', 108),\n",
       " ('California', 100),\n",
       " ('Long Beach', 100),\n",
       " ('Burnaby', 100),\n",
       " ('London', 96),\n",
       " ('Toronto', 96),\n",
       " ('France', 92),\n",
       " ('England', 92)]"
      ]
     },
     "execution_count": 41,
     "metadata": {},
     "output_type": "execute_result"
    }
   ],
   "source": [
    "Counter([en for en, label in rev_db if label == 'GPE']).most_common(50)"
   ]
  },
  {
   "cell_type": "code",
   "execution_count": 25,
   "metadata": {},
   "outputs": [],
   "source": [
    "desc_docs = [nlp(desc) for desc in descriptions]"
   ]
  },
  {
   "cell_type": "code",
   "execution_count": null,
   "metadata": {},
   "outputs": [],
   "source": [
    "for doc in rev_docs[:5]:\n",
    "    displacy.render(doc, style=\"ent\")"
   ]
  },
  {
   "cell_type": "code",
   "execution_count": null,
   "metadata": {},
   "outputs": [],
   "source": [
    "for doc in desc_docs[:5]:\n",
    "    displacy.render(doc, style=\"ent\")"
   ]
  },
  {
   "cell_type": "code",
   "execution_count": null,
   "metadata": {},
   "outputs": [
    {
     "name": "stderr",
     "output_type": "stream",
     "text": [
      "  3%|▎         | 3369/107078 [01:00<19:31, 88.53it/s]"
     ]
    }
   ],
   "source": [
    "all_ents = [e.text for doc in rev_docs for e in doc.ents if e.label_ == \"LOC\"]\n",
    "Counter(all_ents).most_common(100)"
   ]
  },
  {
   "cell_type": "code",
   "execution_count": 44,
   "metadata": {},
   "outputs": [
    {
     "data": {
      "text/plain": [
       "[('Canada', 196),\n",
       " ('Vancouver', 172),\n",
       " ('British Columbia', 141),\n",
       " ('one', 136),\n",
       " ('BC', 128),\n",
       " ('Vancouver Island', 112),\n",
       " ('first', 80),\n",
       " ('daily', 76),\n",
       " ('Victoria', 64),\n",
       " ('two', 56),\n",
       " ('summer', 48),\n",
       " ('Canadian', 48),\n",
       " ('winter', 40),\n",
       " ('Okanagan', 40),\n",
       " ('year-round', 36),\n",
       " ('three', 32),\n",
       " ('Whistler', 32),\n",
       " ('North America', 32),\n",
       " ('Okanagan Valley', 32),\n",
       " ('Bastion', 32),\n",
       " ('7 days', 32),\n",
       " ('Today', 28),\n",
       " ('Saturday', 28),\n",
       " ('First Nations', 28),\n",
       " ('year', 28),\n",
       " (\"British Columbia's\", 28),\n",
       " ('annual', 28),\n",
       " ('Metro Vancouver', 28),\n",
       " ('Haida', 28),\n",
       " ('Penticton', 28),\n",
       " ('the Sunshine Coast', 24),\n",
       " ('Japanese', 24),\n",
       " ('European', 24),\n",
       " ('the Okanagan Valley', 24),\n",
       " ('the Naramata Bench', 24),\n",
       " ('today', 24),\n",
       " ('1', 24),\n",
       " ('the year', 21),\n",
       " ('Long Beach', 20),\n",
       " ('Kamloops', 20),\n",
       " ('Sea', 20),\n",
       " ('3', 20),\n",
       " ('the west coast', 20),\n",
       " ('Northern BC', 20),\n",
       " ('over 100', 20),\n",
       " ('Campbell River', 20),\n",
       " ('four', 20),\n",
       " ('Sidney', 20),\n",
       " ('the Salish Sea', 20),\n",
       " ('2', 20)]"
      ]
     },
     "execution_count": 44,
     "metadata": {},
     "output_type": "execute_result"
    }
   ],
   "source": []
  },
  {
   "cell_type": "code",
   "execution_count": 54,
   "metadata": {},
   "outputs": [],
   "source": [
    "data_df[(data_df.category == 'attraction')].sort_values('num_reviews',ascending=False).name.apply(lambda x: x.strip().lower()).drop_duplicates().to_csv('attractions', index=False, header=False)"
   ]
  },
  {
   "cell_type": "code",
   "execution_count": null,
   "metadata": {},
   "outputs": [],
   "source": []
  }
 ],
 "metadata": {
  "kernelspec": {
   "display_name": "Python3 (travel-data)",
   "language": "python",
   "name": "travel-data"
  },
  "language_info": {
   "codemirror_mode": {
    "name": "ipython",
    "version": 3
   },
   "file_extension": ".py",
   "mimetype": "text/x-python",
   "name": "python",
   "nbconvert_exporter": "python",
   "pygments_lexer": "ipython3",
   "version": "3.6.1"
  }
 },
 "nbformat": 4,
 "nbformat_minor": 4
}
